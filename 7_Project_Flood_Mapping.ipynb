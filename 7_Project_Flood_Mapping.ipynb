{
 "cells": [
  {
   "cell_type": "markdown",
   "id": "e997805b",
   "metadata": {},
   "source": [
    "# Flood Mapping\n",
    "\n",
    "- Mapping of flooded areas by comparing images taken before and after a flood event.\n",
    "- Since most flood events are caused by heavy rainfall, optical imagery has limited applications due to cloud cover.\n",
    "- SAR imagery is not affected by weather and provides a robust and reliable way to detect flooded regions."
   ]
  },
  {
   "cell_type": "code",
   "execution_count": 1,
   "id": "c0c775f7",
   "metadata": {},
   "outputs": [
    {
     "name": "stdout",
     "output_type": "stream",
     "text": [
      "Automatic pdb calling has been turned ON\n"
     ]
    }
   ],
   "source": [
    "%load_ext autoreload\n",
    "%autoreload 2\n",
    "%pdb on\n",
    "%config InlineBackend.figure_format ='retina'\n",
    "from IPython.core.debugger import set_trace\n",
    "import numpy as np\n",
    "import pandas as pd\n",
    "import matplotlib.pyplot as plt\n",
    "import seaborn as sns\n",
    "sns.set_theme()"
   ]
  },
  {
   "cell_type": "code",
   "execution_count": 2,
   "id": "723c44f1",
   "metadata": {},
   "outputs": [
    {
     "data": {
      "application/vnd.jupyter.widget-view+json": {
       "model_id": "56304a1237f14309ae682830789368f6",
       "version_major": 2,
       "version_minor": 0
      },
      "text/plain": [
       "Map(center=[40, -100], controls=(WidgetControl(options=['position', 'transparent_bg'], widget=HBox(children=(T…"
      ]
     },
     "metadata": {},
     "output_type": "display_data"
    }
   ],
   "source": [
    "import ee\n",
    "import geemap\n",
    "ee.Initialize()\n",
    "m = geemap.Map()\n",
    "m"
   ]
  },
  {
   "cell_type": "markdown",
   "id": "eb003c2e",
   "metadata": {},
   "source": [
    "## Data\n",
    "\n",
    "We are going to use **Sentinel-1 SAR GRD** (C-band synthetic Aperture Radar Ground Range Detected).\n",
    "\n",
    "### Sentinel-1 \n",
    "\n",
    "- Consists of 2 satellites: Sentinel-1A and Sentinel-1B.\n",
    "- Instrument: C-band synthetic aperture radar (SAR) sensor (day and night).\n",
    "- Spatial resolution: 10m.\n",
    "- Temporal resolution: 6-12 days.\n",
    "\n",
    "### Polarisations and Operational Modes\n",
    "\n",
    "- S1 can be configured to receive specific polarisations. It can transmit a signal either horizontally (H) or vertically (V), and then receives both H and V.\n",
    "- Images are captured in different polarizations and available as separate bands: HH, VV, HV, VH.\n",
    "- 3 different operational modes:\n",
    "    - **Interferometric Wide Swath (IW)**.\n",
    "    - Extra Wide Swath (EW).\n",
    "    - Strip-Map (SP).\n",
    "\n",
    "### Level-1 Products\n",
    "- SLC (single look complex)\n",
    "- GRD (Ground range detected)"
   ]
  },
  {
   "cell_type": "markdown",
   "id": "71020da7",
   "metadata": {},
   "source": [
    "## Summary\n",
    "\n",
    "- Most of the world is captured in IW mode.\n",
    "- Most areas of the world are images with VV and VH polarisations.\n",
    "\n",
    "<div style=\"text-align:center;\">\n",
    "    <img style=\"width:80%\" src=\"static/imgs/S1_coverage.png\" />\n",
    "</div>"
   ]
  },
  {
   "cell_type": "markdown",
   "id": "80460abb",
   "metadata": {},
   "source": [
    "## Problem"
   ]
  },
  {
   "cell_type": "markdown",
   "id": "6ef6e532",
   "metadata": {},
   "source": [
    "We will investigate the 2016 Seine-et-Marne flooding (France): \n",
    "\n",
    "<div style=\"text-align:center;\">\n",
    "    <img style=\"width:50%\" src=\"static/imgs/paris_flooding.jpeg\" />\n",
    "</div>\n",
    "\n",
    "- Date: May-June 2016.\n",
    "- Location: Seine-et-Marne, France.\n",
    "- Cause: Heavy rains.\n",
    "\n",
    "This script was originally written by Simon Ilyushchenko (GEE team) and adapted by Simon Gascoin (CNRS/CESBIO) and Michel Le Page (IRD/CESBIO):"
   ]
  },
  {
   "cell_type": "code",
   "execution_count": 3,
   "id": "bbdfecb1",
   "metadata": {},
   "outputs": [],
   "source": [
    "def to_natural(img):\n",
    "    \"\"\"Convert from dB.\"\"\"\n",
    "    return ee.Image(10.0).pow(img.select(0).divide(10.0))\n",
    "\n",
    "def to_db(img):\n",
    "    return ee.Image(img).log10().multiply(10.0)\n",
    "\n",
    "def refined_lee(img):\n",
    "    \"\"\"Speckle filter (By Guido Lemoine).\"\"\"\n",
    "    \n",
    "    # img must be in natural units, i.e. not in dB!\n",
    "    # Set up 3x3 kernels \n",
    "    weights3 = ee.List.repeat(ee.List.repeat(1,3), 3)\n",
    "    kernel3 = ee.Kernel.fixed(3, 3, weights3, 1, 1, False)\n",
    "    mean3 = img.reduceNeighborhood(ee.Reducer.mean(), kernel3)\n",
    "    variance3 = img.reduceNeighborhood(ee.Reducer.variance(), kernel3)\n",
    "\n",
    "    # Use a sample of the 3x3 windows inside a 7x7 windows to determine gradients and directions\n",
    "    sample_weights = ee.List(\n",
    "        [[0,0,0,0,0,0,0], \n",
    "         [0,1,0,1,0,1,0],\n",
    "         [0,0,0,0,0,0,0],\n",
    "         [0,1,0,1,0,1,0],\n",
    "         [0,0,0,0,0,0,0],\n",
    "         [0,1,0,1,0,1,0],\n",
    "         [0,0,0,0,0,0,0]])\n",
    "\n",
    "    sample_kernel = ee.Kernel.fixed(7, 7, sample_weights, 3, 3, False)\n",
    "\n",
    "    # Calculate mean and variance for the sampled windows and store as 9 bands\n",
    "    sample_mean = mean3.neighborhoodToBands(sample_kernel)\n",
    "    sample_var = variance3.neighborhoodToBands(sample_kernel)\n",
    "\n",
    "    # Determine the 4 gradients for the sampled windows\n",
    "    gradients = sample_mean.select(1).subtract(sample_mean.select(7)).abs()\n",
    "    gradients = gradients.addBands(sample_mean.select(6).subtract(sample_mean.select(2)).abs())\n",
    "    gradients = gradients.addBands(sample_mean.select(3).subtract(sample_mean.select(5)).abs())\n",
    "    gradients = gradients.addBands(sample_mean.select(0).subtract(sample_mean.select(8)).abs())\n",
    "\n",
    "    # And find the maximum gradient amongst gradient bands\n",
    "    max_gradient = gradients.reduce(ee.Reducer.max())\n",
    "\n",
    "    # Create a mask for band pixels that are the maximum gradient\n",
    "    gradmask = gradients.eq(max_gradient)\n",
    "\n",
    "    # duplicate gradmask bands: each gradient represents 2 directions\n",
    "    gradmask = gradmask.addBands(gradmask);\n",
    "\n",
    "    # Determine the 8 directions\n",
    "    directions = sample_mean.select(1).subtract(sample_mean.select(4)).gt(sample_mean.select(4).subtract(sample_mean.select(7))).multiply(1)\n",
    "    directions = directions.addBands(sample_mean.select(6).subtract(sample_mean.select(4)).gt(sample_mean.select(4).subtract(sample_mean.select(2))).multiply(2))\n",
    "    directions = directions.addBands(sample_mean.select(3).subtract(sample_mean.select(4)).gt(sample_mean.select(4).subtract(sample_mean.select(5))).multiply(3))\n",
    "    directions = directions.addBands(sample_mean.select(0).subtract(sample_mean.select(4)).gt(sample_mean.select(4).subtract(sample_mean.select(8))).multiply(4))\n",
    "  \n",
    "    # The next 4 are the not() of the previous 4\n",
    "    directions = directions.addBands(directions.select(0).Not().multiply(5))\n",
    "    directions = directions.addBands(directions.select(1).Not().multiply(6))\n",
    "    directions = directions.addBands(directions.select(2).Not().multiply(7))\n",
    "    directions = directions.addBands(directions.select(3).Not().multiply(8))\n",
    "\n",
    "    # Mask all values that are not 1-8\n",
    "    directions = directions.updateMask(gradmask)\n",
    "\n",
    "    # \"collapse\" the stack into a singe band image (due to masking, each pixel has just one value (1-8) in it's directional band, and is otherwise masked)\n",
    "    directions = directions.reduce(ee.Reducer.sum())\n",
    "\n",
    "    sample_stats = sample_var.divide(sample_mean.multiply(sample_mean));\n",
    "\n",
    "    # Calculate localNoiseVariance\n",
    "    sigmaV = sample_stats.toArray().arraySort().arraySlice(0,0,5).arrayReduce(ee.Reducer.mean(), [0])\n",
    "\n",
    "    # Set up the 7*7 kernels for directional statistics\n",
    "    rect_weights = ee.List.repeat(ee.List.repeat(0,7),3).cat(ee.List.repeat(ee.List.repeat(1,7),4))\n",
    "\n",
    "    diag_weights = ee.List([\n",
    "        [1,0,0,0,0,0,0], \n",
    "        [1,1,0,0,0,0,0], \n",
    "        [1,1,1,0,0,0,0], \n",
    "        [1,1,1,1,0,0,0], \n",
    "        [1,1,1,1,1,0,0], \n",
    "        [1,1,1,1,1,1,0], \n",
    "        [1,1,1,1,1,1,1]])\n",
    "\n",
    "    rect_kernel = ee.Kernel.fixed(7, 7, rect_weights, 3, 3, False)\n",
    "    diag_kernel = ee.Kernel.fixed(7, 7, diag_weights, 3, 3, False)\n",
    "\n",
    "    # Create stacks for mean and variance using the original kernels. Mask with relevant direction.\n",
    "    dir_mean = img.reduceNeighborhood(ee.Reducer.mean(), rect_kernel).updateMask(directions.eq(1))\n",
    "    dir_var = img.reduceNeighborhood(ee.Reducer.variance(), rect_kernel).updateMask(directions.eq(1))\n",
    "\n",
    "    dir_mean = dir_mean.addBands(img.reduceNeighborhood(ee.Reducer.mean(), diag_kernel).updateMask(directions.eq(2)))\n",
    "    dir_var = dir_var.addBands(img.reduceNeighborhood(ee.Reducer.variance(), diag_kernel).updateMask(directions.eq(2)))\n",
    "\n",
    "    # and add the bands for rotated kernels\n",
    "    for i in range(1, 4):\n",
    "        dir_mean = dir_mean.addBands(img.reduceNeighborhood(ee.Reducer.mean(), rect_kernel.rotate(i)).updateMask(directions.eq(2*i+1)))\n",
    "        dir_var = dir_var.addBands(img.reduceNeighborhood(ee.Reducer.variance(), rect_kernel.rotate(i)).updateMask(directions.eq(2*i+1)))\n",
    "        dir_mean = dir_mean.addBands(img.reduceNeighborhood(ee.Reducer.mean(), diag_kernel.rotate(i)).updateMask(directions.eq(2*i+2)))\n",
    "        dir_var = dir_var.addBands(img.reduceNeighborhood(ee.Reducer.variance(), diag_kernel.rotate(i)).updateMask(directions.eq(2*i+2)))\n",
    "\n",
    "    # \"collapse\" the stack into a single band image (due to masking, each pixel has just one value in it's directional band, and is otherwise masked)\n",
    "    dir_mean = dir_mean.reduce(ee.Reducer.sum())\n",
    "    dir_var = dir_var.reduce(ee.Reducer.sum())\n",
    "\n",
    "    # A finally generate the filtered value\n",
    "    varX = dir_var.subtract(dir_mean.multiply(dir_mean).multiply(sigmaV)).divide(sigmaV.add(1.0))\n",
    "\n",
    "    b = varX.divide(dir_var);\n",
    "\n",
    "    result = dir_mean.add(b.multiply(img.subtract(dir_mean)))\n",
    "    return result.arrayFlatten([['sum']])"
   ]
  },
  {
   "cell_type": "code",
   "execution_count": null,
   "id": "fd56c94c",
   "metadata": {},
   "outputs": [],
   "source": [
    "# Set location of interest\n",
    "pt = ee.Geometry.Point(3.02, 48.82)\n",
    "\n",
    "# Load Sentinel-1 C-band SAR Ground Range collections\n",
    "imgs = ee.ImageCollection(\"COPERNICUS/S1_GRD\")\\\n",
    "            .filter(ee.Filter.geometry(pt))\\\n",
    "            .filter(ee.Filter.listContains(\"transmitterReceiverPolarisation\", \"VV\"))\\\n",
    "            .select(\"VV\")\n",
    "\n",
    "# Filter by date to get the \"before\" & \"after\" images\n",
    "before = imgs.filterDate(\"2016-05-01\", \"2016-05-17\").mosaic()\n",
    "after = imgs.filterDate(\"2016-05-30\", \"2016-06-01\").mosaic()\n",
    "\n",
    "# Threshold smoothed radar intensities to identify `flooded` areas\n",
    "SMOOTHING_RADIUS = 100\n",
    "DIFF_UPPER_THRESHOLD = -3\n",
    "\n",
    "diff_smoothed = after.focal_median(SMOOTHING_RADIUS, \"circle\", \"meters\")\\\n",
    "    .subtract(before.focal_median(SMOOTHING_RADIUS, \"circle\", \"meters\"))\n",
    "\n",
    "# Remove speckle noise and calculate the difference between \"before\" and \"after\"\n",
    "diff_smoothed_lee = to_db(refined_lee(to_natural(after))).subtract(to_db(refined_lee(to_natural(before))))\n",
    "\n",
    "diff_thresholded = diff_smoothed.lt(DIFF_UPPER_THRESHOLD)\n",
    "diff_thresholded_lee = diff_smoothed_lee.lt(DIFF_UPPER_THRESHOLD)\n",
    "\n",
    "# Visualize\n",
    "m.centerObject(pt, 13)\n",
    "m.addLayer(before, {\"min\": -30, \"max\": 0}, \"Before flood\", 0)\n",
    "m.addLayer(after, {\"min\": -30, \"max\": 0}, \"After flood\", 0)\n",
    "m.addLayer(after.subtract(before), {\"min\": -10, \"max\": 10}, \"After - before\", 0)\n",
    "m.addLayer(diff_smoothed, {\"min\": -10, \"max\": 10}, \"diff smoothed\", 0)\n",
    "m.addLayer(diff_smoothed_lee, {\"min\": -10, \"max\": 10}, \"diff smoothed refined Lee\", 0) \n",
    "m.addLayer(diff_thresholded.updateMask(diff_thresholded), {\"palette\": \"0000FF\"}, \"flooded areas\", 0)\n",
    "m.addLayer(diff_thresholded_lee.updateMask(diff_thresholded_lee), {\"palette\": \"0000FF\"}, \"flooded areas (Lee)\", 1)"
   ]
  },
  {
   "cell_type": "code",
   "execution_count": null,
   "id": "3d1342d1",
   "metadata": {},
   "outputs": [],
   "source": [
    "geemap.ee_search()"
   ]
  },
  {
   "cell_type": "markdown",
   "id": "109ddfda",
   "metadata": {},
   "source": [
    "---"
   ]
  }
 ],
 "metadata": {
  "kernelspec": {
   "display_name": "Python 3",
   "language": "python",
   "name": "python3"
  },
  "language_info": {
   "codemirror_mode": {
    "name": "ipython",
    "version": 3
   },
   "file_extension": ".py",
   "mimetype": "text/x-python",
   "name": "python",
   "nbconvert_exporter": "python",
   "pygments_lexer": "ipython3",
   "version": "3.8.10"
  }
 },
 "nbformat": 4,
 "nbformat_minor": 5
}
