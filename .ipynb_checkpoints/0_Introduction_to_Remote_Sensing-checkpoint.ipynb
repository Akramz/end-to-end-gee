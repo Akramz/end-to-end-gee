{
 "cells": [
  {
   "cell_type": "markdown",
   "id": "d89879f7",
   "metadata": {},
   "source": [
    "# Introduction to Remote Sensing\n",
    "\n",
    "We are going to focus on the public domain satellite imagery."
   ]
  },
  {
   "cell_type": "code",
   "execution_count": 3,
   "id": "58f665fe",
   "metadata": {},
   "outputs": [
    {
     "data": {
      "text/html": [
       "\n",
       "        <iframe\n",
       "            width=\"600\"\n",
       "            height=\"300\"\n",
       "            src=\"https://www.youtube.com/embed/xAyNu9HbK8s\"\n",
       "            frameborder=\"0\"\n",
       "            allowfullscreen\n",
       "        ></iframe>\n",
       "        "
      ],
      "text/plain": [
       "<IPython.lib.display.YouTubeVideo at 0x7f88f033f3a0>"
      ]
     },
     "execution_count": 3,
     "metadata": {},
     "output_type": "execute_result"
    }
   ],
   "source": [
    "from IPython.display import YouTubeVideo\n",
    "\n",
    "YouTubeVideo(id=\"xAyNu9HbK8s\", width=600, height=300)"
   ]
  },
  {
   "cell_type": "markdown",
   "id": "64105f5d",
   "metadata": {},
   "source": [
    "## How do satellites see the world?"
   ]
  },
  {
   "cell_type": "markdown",
   "id": "ea6885c7",
   "metadata": {},
   "source": [
    "#### Passive Remote Sensing\n",
    "\n",
    "Uses the sun's radiation:\n",
    "\n",
    "<div style=\"text-align:center;\">\n",
    "    <img style=\"width:33%\" src=\"static/imgs/passive.png\" />\n",
    "</div>"
   ]
  },
  {
   "cell_type": "markdown",
   "id": "d5b67bb5",
   "metadata": {},
   "source": [
    "#### The electromagnetic spectrum\n",
    "\n",
    "<div style=\"text-align:center;\">\n",
    "    <img style=\"width:75%\" src=\"static/imgs/spectrum.png\" />\n",
    "</div>"
   ]
  },
  {
   "cell_type": "markdown",
   "id": "e204b4c0",
   "metadata": {},
   "source": [
    "### Landsat-8\n",
    "\n",
    "Deployed by NASA, can capture information from the visible and infrared part of the spectrum.\n",
    "\n",
    "<div style=\"text-align:center;\">\n",
    "    <img style=\"width:75%\" src=\"static/imgs/landsat-8.png\" />\n",
    "</div>\n",
    "\n",
    "The white windows represent intervals that are completely absorbed by the atmosphere."
   ]
  },
  {
   "cell_type": "markdown",
   "id": "7dd3bc26",
   "metadata": {},
   "source": [
    "### Sentinel-1\n",
    "\n",
    "<div style=\"text-align:center;\">\n",
    "    <img style=\"width:33%\" src=\"static/imgs/Sentinel-1.png\" />\n",
    "</div>\n",
    "\n",
    "Sentinel-1 captures the microwave part of the electromagnetic spectrum. It can penetrate clouds and is very useful for the applications such as detecting floods.\n",
    "\n",
    "S1 polarizations are two different ways that are used to capture data."
   ]
  },
  {
   "cell_type": "markdown",
   "id": "224c528e",
   "metadata": {},
   "source": [
    "### Sentinel-5p\n",
    "\n",
    "S5p measures light intensities in the ultraviolet and infrared parts of the spectrum. It is useful for detecting pollution concentrations for air quality assessment."
   ]
  },
  {
   "cell_type": "markdown",
   "id": "9daaae2a",
   "metadata": {},
   "source": [
    "## Processing Levels"
   ]
  },
  {
   "cell_type": "markdown",
   "id": "2b7a4c55",
   "metadata": {},
   "source": [
    "#### Level 0: raw data as measured by the sensor\n",
    "\n",
    "L0 data is not useful unless we want to calibrate the sensor or do low-level operations.\n",
    "\n",
    "#### Level 1\n",
    "\n",
    "L1 data undergoes the following operations:\n",
    "- radiometric and geometric corrections.\n",
    "- Conversion from radiance to reflectance/brightness temperature.\n",
    "\n",
    "L1 data is referred to as Top-of-Atmosphere (TAO) products. \n",
    "\n",
    "#### Level 2\n",
    "\n",
    "Surface reflectance products are the result of the following:\n",
    "- Atmospheric correction.\n",
    "- Conversion to surface reflectance/temperature.\n",
    "\n",
    "L2 data corrects for the disruption that happens to the reflected light by the atmosphere.\n",
    "\n",
    "#### Level 3\n",
    "\n",
    "L3 scenes are projected to a uniform grid."
   ]
  },
  {
   "cell_type": "markdown",
   "id": "b05677e3",
   "metadata": {},
   "source": [
    "### Types of Resolutions\n",
    "\n",
    "- Spatial resolution: how much does each pixel measure on the ground. Referred to as:\n",
    "    - The pixel size.\n",
    "    - GSD: ground sampling distance.\n",
    "- Temporal resolution\n",
    "    - How frequently can the satellite image the same location?\n",
    "    - Revisit time.\n",
    "- Spectral resolution\n",
    "    - How many different bands are being captured?\n",
    "    - Multispectral: 3 to 10 bands. Each band has a descriptive title.\n",
    "    - Hyperspectral: hundreds of narrow bands.\n",
    "- Radiometric resolution\n",
    "    - How many levels of brightness the sensor can measure (value precision or bit depth).\n",
    "    - Examples:\n",
    "        - Landsat 1-3: 4-bit.\n",
    "        - Landsat 4-7: 8-bit.\n",
    "        - Landsat 8: 16-bit.\n",
    "        - MODIS/Sentinel-2: 12-bit."
   ]
  },
  {
   "cell_type": "markdown",
   "id": "52e7430c",
   "metadata": {},
   "source": [
    "### Swath Width\n",
    "\n",
    "Refers to how much data you can capture in a single go, examples:\n",
    "\n",
    "- VIIRS: 3040 km\n",
    "- MODIS: 2335 km\n",
    "- Landsat 8: 185 km\n",
    "- Sentinel-2: 290km\n",
    "- Sentinel-1: 80/250/400 km (configurable)."
   ]
  },
  {
   "cell_type": "markdown",
   "id": "d108a1e2",
   "metadata": {},
   "source": [
    "### Visual Interpretation\n",
    "\n",
    "We can only interpret 3-band images, here are some popular band-combinations for visualization purposes:\n",
    "- True color: RGB.\n",
    "- False color infrared: NIR, Red, Green (shows the healthy vegetation).\n",
    "- False color urban: SWIR-2, SWIR-1, Red.\n",
    "- Agriculture: SWIR-1, NIR, Blue."
   ]
  },
  {
   "cell_type": "markdown",
   "id": "3d50bf79",
   "metadata": {},
   "source": [
    "### Spectral Indices & Band Ratios\n",
    "\n",
    "Examples:\n",
    "- `NDVI = (NIR - RED) / (NIR + RED)`.\n",
    "- `NDWI = (GREEN - NIR) / (GREEN + NIR)`.\n",
    "- `NDBI = (SWIR-1 - NIR) / (SWIR-1 + NIR)`."
   ]
  },
  {
   "cell_type": "markdown",
   "id": "70fb7960",
   "metadata": {},
   "source": [
    "## Data Accessibility "
   ]
  },
  {
   "cell_type": "markdown",
   "id": "3ccc2e73",
   "metadata": {},
   "source": [
    "### Processing Latency \n",
    "\n",
    "- Real-time or near-real-time (no corrections)\n",
    "    - Weather monitoring (GPM 30min).\n",
    "    - MODIS (60-125 mins).\n",
    "    - Landsat (4-6 hours).\n",
    "    - Sentinel-5p (3 hours).\n",
    "- Standard (standard corrections)\n",
    "    - CHIRPS (1 day).\n",
    "    - Landsat (14-16 days).\n",
    "    - Sentinel-5p (12 hours).\n",
    "- Reprocessed (optional processes)\n",
    "    - Algorithm/calibration parameters availability."
   ]
  },
  {
   "cell_type": "markdown",
   "id": "9f2dffca",
   "metadata": {},
   "source": [
    "### Data access\n",
    "\n",
    "Open data\n",
    "- NASA/ESA/JAXA has numorous open and public data sets.\n",
    "\n",
    "Time-lag data\n",
    "- Archive data is freely available.\n",
    "\n",
    "Commercial data\n",
    "- Providers include: MAXAR, Planet, Airbus."
   ]
  },
  {
   "cell_type": "markdown",
   "id": "1d942cdf",
   "metadata": {},
   "source": [
    "---"
   ]
  }
 ],
 "metadata": {
  "kernelspec": {
   "display_name": "Python 3",
   "language": "python",
   "name": "python3"
  },
  "language_info": {
   "codemirror_mode": {
    "name": "ipython",
    "version": 3
   },
   "file_extension": ".py",
   "mimetype": "text/x-python",
   "name": "python",
   "nbconvert_exporter": "python",
   "pygments_lexer": "ipython3",
   "version": "3.8.8"
  }
 },
 "nbformat": 4,
 "nbformat_minor": 5
}
