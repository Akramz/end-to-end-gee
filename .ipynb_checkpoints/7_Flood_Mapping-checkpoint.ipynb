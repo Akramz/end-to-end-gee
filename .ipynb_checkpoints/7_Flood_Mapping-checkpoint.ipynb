{
 "cells": [
  {
   "cell_type": "markdown",
   "id": "e997805b",
   "metadata": {},
   "source": [
    "# Flood Mapping\n",
    "\n",
    "- Mapping of flooded areas by comparing images taken before and after a flood event.\n",
    "- Since most flood events are caused by heavy rainfall, optical imagery has limited applications due to cloud cover.\n",
    "- SAR imagery is not affected by weather and provides a robust and reliable way to detect flooded regions."
   ]
  },
  {
   "cell_type": "code",
   "execution_count": 1,
   "id": "c0c775f7",
   "metadata": {},
   "outputs": [
    {
     "name": "stdout",
     "output_type": "stream",
     "text": [
      "Automatic pdb calling has been turned ON\n"
     ]
    }
   ],
   "source": [
    "%load_ext autoreload\n",
    "%autoreload 2\n",
    "%pdb on\n",
    "%config InlineBackend.figure_format ='retina'\n",
    "from IPython.core.debugger import set_trace\n",
    "import numpy as np\n",
    "import pandas as pd\n",
    "import matplotlib.pyplot as plt\n",
    "import seaborn as sns\n",
    "sns.set_theme()"
   ]
  },
  {
   "cell_type": "code",
   "execution_count": 8,
   "id": "723c44f1",
   "metadata": {},
   "outputs": [
    {
     "data": {
      "application/vnd.jupyter.widget-view+json": {
       "model_id": "e9742cfe0ad444c091f3add714996fc1",
       "version_major": 2,
       "version_minor": 0
      },
      "text/plain": [
       "Map(center=[40, -100], controls=(WidgetControl(options=['position', 'transparent_bg'], widget=HBox(children=(T…"
      ]
     },
     "metadata": {},
     "output_type": "display_data"
    }
   ],
   "source": [
    "import ee\n",
    "import geemap\n",
    "ee.Initialize()\n",
    "m = geemap.Map()\n",
    "m"
   ]
  },
  {
   "cell_type": "markdown",
   "id": "eb003c2e",
   "metadata": {},
   "source": [
    "## Data\n",
    "\n",
    "We are going to use **Sentinel-1 SAR GRD** (C-band synthetic Aperture Radar Ground Range Detected).\n",
    "\n",
    "### Sentinel-1 \n",
    "\n",
    "- Consists of 2 satellites: Sentinel-1A and Sentinel-1B.\n",
    "- Instrument: C-band synthetic aperture radar (SAR) sensor (day and night).\n",
    "- Spatial resolution: 10m.\n",
    "- Temporal resolution: 6-12 days.\n",
    "\n",
    "### Polarisations and Operational Modes\n",
    "\n",
    "- S1 can be configured to receive specific polarisations. It can transmit a signal either horizontally (H) or vertically (V), and then receives both H and V.\n",
    "- Images are captured in different polarizations and available as separate bands: HH, VV, HV, VH.\n",
    "- 3 different operational modes:\n",
    "    - **Interferometric Wide Swath (IW)**.\n",
    "    - Extra Wide Swath (EW).\n",
    "    - Strip-Map (SP).\n",
    "\n",
    "### Level-1 Products\n",
    "- SLC (single look complex)\n",
    "- GRD (Ground range detected)"
   ]
  },
  {
   "cell_type": "markdown",
   "id": "71020da7",
   "metadata": {},
   "source": [
    "## Summary\n",
    "\n",
    "- Most of the world is captured in IW mode.\n",
    "- Most areas of the world are images with VV and VH polarisations.\n",
    "\n",
    "<div style=\"text-align:center;\">\n",
    "    <img style=\"width:80%\" src=\"static/imgs/S1_coverage.png\" />\n",
    "</div>"
   ]
  },
  {
   "cell_type": "markdown",
   "id": "e8122ff2",
   "metadata": {},
   "source": [
    "## Visualization of SAR Imagery"
   ]
  },
  {
   "cell_type": "code",
   "execution_count": 7,
   "id": "eb98db68",
   "metadata": {},
   "outputs": [],
   "source": [
    "imgVV = ee.ImageCollection('COPERNICUS/S1_GRD')\\\n",
    "        .filter(ee.Filter.listContains('transmitterReceiverPolarisation', 'VV'))\\\n",
    "        .filter(ee.Filter.eq('instrumentMode', 'IW'))\\\n",
    "        .select('VV')\\\n",
    "        .map(lambda img: img.updateMask(img.mask().And(img.lt(-30.0).Not())))\n",
    "\n",
    "desc = imgVV.filter(ee.Filter.eq('orbitProperties_pass', 'DESCENDING'))\n",
    "asc = imgVV.filter(ee.Filter.eq('orbitProperties_pass', 'ASCENDING'))\n",
    "\n",
    "spring = ee.Filter.date('2015-03-01', '2015-04-20')\n",
    "lateSpring = ee.Filter.date('2015-04-21', '2015-06-10')\n",
    "summer = ee.Filter.date('2015-06-11', '2015-08-31')\n",
    "\n",
    "descChange = ee.Image.cat(\n",
    "        desc.filter(spring).mean(),\n",
    "        desc.filter(lateSpring).mean(),\n",
    "        desc.filter(summer).mean())\n",
    "\n",
    "ascChange = ee.Image.cat(\n",
    "        asc.filter(spring).mean(),\n",
    "        asc.filter(lateSpring).mean(),\n",
    "        asc.filter(summer).mean())\n",
    "\n",
    "m.setCenter(5.2013, 47.3277, 12)\n",
    "m.addLayer(ascChange, {\"min\": -25, \"max\": 5}, 'Multi-T Mean ASC', True)\n",
    "m.addLayer(descChange, {\"min\": -25, \"max\": 5}, 'Multi-T Mean DESC', True)"
   ]
  },
  {
   "cell_type": "markdown",
   "id": "80460abb",
   "metadata": {},
   "source": [
    "## Methodology\n",
    "\n",
    "Based on best practices recommended by UN-SPIDER.\n",
    "\n",
    "1. [ ] Select images from before and after flood event.\n",
    "    - Use `VH` band for urban flood detection.\n",
    "2. [ ] Apply speckle filter.\n",
    "3. [ ] Calculate the difference and apply a threshold.\n",
    "4. [ ] Apply masks to remove permanent water, isolated pixels and steep areas.\n",
    "5. [ ] Calculate flood area."
   ]
  },
  {
   "cell_type": "markdown",
   "id": "6ef6e532",
   "metadata": {},
   "source": [
    "We will investigate the 2020 Jakarta floods: \n",
    "\n",
    "<div style=\"text-align:center;\">\n",
    "        <img style=\"width:50%\" src=\"static/imgs/jakarta_floods.jpg\" />\n",
    "</div>\n",
    "\n",
    "- Start: 1 January 2020.\n",
    "- Location: Jakarta metropolitan area, Java, Indonesia (6.2175° S, 106.8178° E).\n",
    "- Cause: Heavy rains.\n",
    "- Deaths: 66."
   ]
  },
  {
   "cell_type": "code",
   "execution_count": 13,
   "id": "5019d03d",
   "metadata": {},
   "outputs": [],
   "source": [
    "m.setCenter(106.8178, -6.2175, zoom=12)"
   ]
  },
  {
   "cell_type": "markdown",
   "id": "a2e0a9fd",
   "metadata": {},
   "source": [
    "Let's take a look at Sentinel-1 images before & after:"
   ]
  },
  {
   "cell_type": "code",
   "execution_count": null,
   "id": "59fe713b",
   "metadata": {},
   "outputs": [],
   "source": []
  },
  {
   "cell_type": "code",
   "execution_count": null,
   "id": "a3b57f5a",
   "metadata": {},
   "outputs": [],
   "source": []
  },
  {
   "cell_type": "code",
   "execution_count": null,
   "id": "88b0de3e",
   "metadata": {},
   "outputs": [],
   "source": []
  },
  {
   "cell_type": "code",
   "execution_count": null,
   "id": "2ac212ff",
   "metadata": {},
   "outputs": [],
   "source": []
  },
  {
   "cell_type": "code",
   "execution_count": null,
   "id": "c1dc4e03",
   "metadata": {},
   "outputs": [],
   "source": []
  },
  {
   "cell_type": "code",
   "execution_count": null,
   "id": "72de6aef",
   "metadata": {},
   "outputs": [],
   "source": []
  },
  {
   "cell_type": "code",
   "execution_count": null,
   "id": "8994acaa",
   "metadata": {},
   "outputs": [],
   "source": []
  },
  {
   "cell_type": "code",
   "execution_count": null,
   "id": "4b3f2754",
   "metadata": {},
   "outputs": [],
   "source": []
  },
  {
   "cell_type": "code",
   "execution_count": null,
   "id": "a865d87c",
   "metadata": {},
   "outputs": [],
   "source": []
  },
  {
   "cell_type": "code",
   "execution_count": 14,
   "id": "3d1342d1",
   "metadata": {},
   "outputs": [
    {
     "data": {
      "application/vnd.jupyter.widget-view+json": {
       "model_id": "ebae565b019f4e7fa5671a9a8a1ea84e",
       "version_major": 2,
       "version_minor": 0
      },
      "text/plain": [
       "HBox(children=(VBox(), VBox()))"
      ]
     },
     "metadata": {},
     "output_type": "display_data"
    }
   ],
   "source": [
    "geemap.ee_search()"
   ]
  },
  {
   "cell_type": "markdown",
   "id": "109ddfda",
   "metadata": {},
   "source": [
    "---"
   ]
  }
 ],
 "metadata": {
  "kernelspec": {
   "display_name": "Python 3",
   "language": "python",
   "name": "python3"
  },
  "language_info": {
   "codemirror_mode": {
    "name": "ipython",
    "version": 3
   },
   "file_extension": ".py",
   "mimetype": "text/x-python",
   "name": "python",
   "nbconvert_exporter": "python",
   "pygments_lexer": "ipython3",
   "version": "3.8.10"
  }
 },
 "nbformat": 4,
 "nbformat_minor": 5
}
