{
 "cells": [
  {
   "cell_type": "markdown",
   "id": "a11dac88",
   "metadata": {},
   "source": [
    "# 1. Introduction to the Python API\n",
    "\n",
    "An advantage of the Python API is that you can use it in your own development environment (vs. the JS Code Editor) - so you get a lot more flexibility to automate as well as combine other analysis and visualization libraries with Earth Engine."
   ]
  },
  {
   "cell_type": "markdown",
   "id": "8cb9d117",
   "metadata": {},
   "source": [
    "## Installation"
   ]
  },
  {
   "cell_type": "markdown",
   "id": "9cf5b9ac",
   "metadata": {},
   "source": [
    "The preferred method for installing the Earth Engine Python API is via Anaconda. Follow these steps to install Anaconda and required libraries.\n",
    "\n",
    "1. Download the [Anaconda Installer](https://www.anaconda.com/products/individual) for Python 3.7 (or a higher version) for your operating system. Once downloaded, double click the installer and install it into the default suggested directory. Select an install for \"Just Me\" and use default settings. Note: If your username has spaces, or non-English characters, it may cause problems. In that case, you can install it to a path such as C:\\anaconda.\n",
    "\n",
    "<div style=\"align:center;\">\n",
    "    <img style=\"width:66%\" src=\"https://courses.spatialthoughts.com/images/end_to_end_gee/conda1.png\" />\n",
    "</div>"
   ]
  },
  {
   "cell_type": "markdown",
   "id": "d57df4b1",
   "metadata": {},
   "source": [
    "2. (Windows users) Once installed, search for Anaconda Prompt launch it. (Mac/Linux users): Launch a Terminal window.\n",
    "\n",
    "<div style=\"align:center;\">\n",
    "    <img style=\"width:66%\" src=\"https://courses.spatialthoughts.com/images/end_to_end_gee/conda2.png\" />\n",
    "</div>"
   ]
  },
  {
   "cell_type": "markdown",
   "id": "5a59fd42",
   "metadata": {},
   "source": [
    "3. Once the prompt launches, it will be in the base environment. It is a good practice to install new packages in a separate environment. We will new create a new environment to install Earth Engine related packages. Enter the below code to create a new environment called ee.\n",
    "\n",
    "> Note: You can use the shortcut Shift + Insert to paste commands in Anaconda Prompt.\n",
    "\n",
    "```\n",
    "conda create --name ee\n",
    "```\n",
    "\n",
    "<div style=\"align:center;\">\n",
    "    <img style=\"width:66%\" src=\"https://courses.spatialthoughts.com/images/end_to_end_gee/conda3.png\" />\n",
    "</div>"
   ]
  },
  {
   "cell_type": "markdown",
   "id": "ae74d03c",
   "metadata": {},
   "source": [
    "4. Anaconda will validate the conda commands and before proceeding will ask for confirmation, press y, and enter to confirm.\n",
    "\n",
    "<div style=\"align:center;\">\n",
    "    <img style=\"width:66%\" src=\"https://courses.spatialthoughts.com/images/end_to_end_gee/conda4.png\" />\n",
    "</div>"
   ]
  },
  {
   "cell_type": "markdown",
   "id": "ca9862c5",
   "metadata": {},
   "source": [
    "5. Once the environment is created the Executing transaction: done message will be displayed, if the execution is not successful, it will be marked as failed with an error message. Enter the code to activate the environment.\n",
    "\n",
    "```\n",
    "conda activate ee\n",
    "```\n",
    "\n",
    "<div style=\"align:center;\">\n",
    "    <img style=\"width:66%\" src=\"https://courses.spatialthoughts.com/images/end_to_end_gee/conda5.png\" />\n",
    "</div>"
   ]
  },
  {
   "cell_type": "markdown",
   "id": "deacbb06",
   "metadata": {},
   "source": [
    "6. Now the (base) will be replaced with (ee) indicating the environment is activated. Libraries in the `ee` environment will not affect the base environment. Also, these libraries can be used only in this environment cannot be accessed from the base or other environments.\n",
    "\n",
    "<div style=\"align:center;\">\n",
    "    <img style=\"width:66%\" src=\"https://courses.spatialthoughts.com/images/end_to_end_gee/conda6.png\" />\n",
    "</div>"
   ]
  },
  {
   "cell_type": "markdown",
   "id": "3565ddb2",
   "metadata": {},
   "source": [
    "7. Now, `earthengine-api` library can be installed using `conda-forge`. When entering the below code, anaconda prompt will ask for confirmation, press y and Enter to install the library.\n",
    "\n",
    "```conda install -c conda-forge earthengine-api```\n",
    "\n",
    "<div style=\"align:center;\">\n",
    "    <img style=\"width:66%\" src=\"https://courses.spatialthoughts.com/images/end_to_end_gee/conda7.png\" />\n",
    "</div>"
   ]
  },
  {
   "cell_type": "markdown",
   "id": "8aae5918",
   "metadata": {},
   "source": [
    "8. On successful installation, `Executing transaction: done`, will be displayed, enter the below code to install geemap library.\n",
    "\n",
    "```\n",
    "conda install geopandas\n",
    "conda install mamba -c conda-forge\n",
    "mamba install geemap xarray_leaflet -c conda-forge\n",
    "```"
   ]
  },
  {
   "cell_type": "markdown",
   "id": "770cd543",
   "metadata": {},
   "source": [
    "9. Once the library installs successfully, enter the below code to install jupyter lab, it is a browser-based user interface that can be used for executing python commands in a notebook format file.\n",
    "\n",
    "```mamba install -c conda-forge jupyterlab```\n",
    "\n",
    "<div style=\"align:center;\">\n",
    "    <img style=\"width:66%\" src=\"https://courses.spatialthoughts.com/images/end_to_end_gee/conda9.png\" />\n",
    "</div>"
   ]
  },
  {
   "cell_type": "markdown",
   "id": "4e207dfb",
   "metadata": {},
   "source": [
    "10. On successful installation Executing transaction: done will be displayed. To launch it enter the below code and click enter.\n",
    "\n",
    "```jupyter lab```\n",
    "\n",
    "<div style=\"align:center;\">\n",
    "    <img style=\"width:66%\" src=\"https://courses.spatialthoughts.com/images/end_to_end_gee/conda10.png\" />\n",
    "</div>"
   ]
  },
  {
   "cell_type": "markdown",
   "id": "0b7559ff",
   "metadata": {},
   "source": [
    "11. A new browser tab will open with an instance of JupterLab. Click the Python 3 button under Notebooks.\n",
    "\n",
    "> Note: Do not close the Anaconda prompt as the jupyter server is running using this connection, which will be interrupted if the prompt is closed.\n",
    "\n",
    "<div style=\"align:center;\">\n",
    "    <img style=\"width:66%\" src=\"https://courses.spatialthoughts.com/images/end_to_end_gee/conda11.png\" />\n",
    "</div>"
   ]
  },
  {
   "cell_type": "markdown",
   "id": "d6fe5330",
   "metadata": {},
   "source": [
    "12. Enter the below code and click the Run button, if the execution is successful all the libraries and their dependencies are installed successfully.\n",
    "\n",
    "```\n",
    "import ee\n",
    "import geemap\n",
    "```\n",
    "\n",
    "<div style=\"align:center;\">\n",
    "    <img style=\"width:66%\" src=\"https://courses.spatialthoughts.com/images/end_to_end_gee/conda12.png\" />\n",
    "</div>"
   ]
  },
  {
   "cell_type": "markdown",
   "id": "1136c11d",
   "metadata": {},
   "source": [
    "## Python API Syntax\n",
    "\n",
    "Coming from Earth Engine programming through the Code Editor, you will need to slightly adapt your scripts to be able to run in Python. For the bulk of your code, you will be using Earth Engine API’s server-side objects and functions - which will be exactly the same in Python. You only need to make a few syntactical changes.\n",
    "\n",
    "Here’s the full list of [differences](https://developers.google.com/earth-engine/guides/python_install#syntax). Most important ones are elaborated below:"
   ]
  },
  {
   "cell_type": "markdown",
   "id": "25b16525",
   "metadata": {},
   "source": [
    "### Initialization\n",
    "\n",
    "First of all, you need to run the following cells to initialize the API and authorize your account. You will be prompted to sign-in to the account and allow access to View and Manage your Earth Engine data. \n",
    "\n",
    "Once you approve, you will get an a verification code that needs to be entered at the prompt. This step needs to be done just once per session."
   ]
  },
  {
   "cell_type": "code",
   "execution_count": 1,
   "id": "a9bc09f4",
   "metadata": {},
   "outputs": [],
   "source": [
    "import ee\n",
    "# ee.Authenticate()  # Only run for the first time.\n",
    "ee.Initialize()\n",
    "\n",
    "import geemap"
   ]
  },
  {
   "cell_type": "markdown",
   "id": "b47987a7",
   "metadata": {},
   "source": [
    "### Variables"
   ]
  },
  {
   "cell_type": "code",
   "execution_count": 2,
   "id": "37dc29d9",
   "metadata": {},
   "outputs": [
    {
     "name": "stdout",
     "output_type": "stream",
     "text": [
      "San Fransico California\n",
      "881549\n"
     ]
    }
   ],
   "source": [
    "city = 'San Fransico'\n",
    "state = 'California'\n",
    "print(city, state)\n",
    "\n",
    "population = 881549\n",
    "print(population)"
   ]
  },
  {
   "cell_type": "markdown",
   "id": "a7d1b75e",
   "metadata": {},
   "source": [
    "### Line Continuation"
   ]
  },
  {
   "cell_type": "code",
   "execution_count": 4,
   "id": "b814a78a",
   "metadata": {},
   "outputs": [],
   "source": [
    "s2 = ee.ImageCollection('COPERNICUS/S2')\n",
    "filtered = s2\\\n",
    "    .filter(ee.Filter.lt('CLOUDY_PIXEL_PERCENTAGE', 30))\\\n",
    "    .filter(ee.Filter.date('2019-01-01', '2019-12-31'))"
   ]
  },
  {
   "cell_type": "markdown",
   "id": "77bfe068",
   "metadata": {},
   "source": [
    "### Functions"
   ]
  },
  {
   "cell_type": "code",
   "execution_count": 5,
   "id": "4ff16556",
   "metadata": {},
   "outputs": [],
   "source": [
    "def mask_s2_clouds(image):\n",
    "    qa = image.select('QA60')\n",
    "    cloudBitMask = 1 << 10\n",
    "    cirrusBitMask = 1 << 11\n",
    "    mask = qa.bitwiseAnd(cloudBitMask).eq(0).And(\n",
    "        qa.bitwiseAnd(cirrusBitMask).eq(0))\n",
    "    return image.updateMask(mask) \\\n",
    "      .select(\"B.*\") \\\n",
    "      .copyProperties(image, [\"system:time_start\"])"
   ]
  },
  {
   "cell_type": "markdown",
   "id": "e18bc745",
   "metadata": {},
   "source": [
    "### Function Arguments\n",
    "\n",
    "Named arguments to Earth Engine functions need to be in quotes. Also when passing the named arguments as a dictionary, it needs to be passed using the `**` keyword."
   ]
  },
  {
   "cell_type": "code",
   "execution_count": 6,
   "id": "1eb54b19",
   "metadata": {},
   "outputs": [
    {
     "name": "stdout",
     "output_type": "stream",
     "text": [
      "{'type': 'FeatureCollection', 'columns': {'landcover': 'Byte<0, 1>'}, 'properties': {'band_order': ['landcover']}, 'features': [{'type': 'Feature', 'geometry': {'geodesic': False, 'type': 'Point', 'coordinates': [80.54859931087773, 26.557191000167748]}, 'id': '0', 'properties': {'landcover': 1}}, {'type': 'Feature', 'geometry': {'geodesic': False, 'type': 'Point', 'coordinates': [78.14691430281763, 28.164266470245117]}, 'id': '1', 'properties': {'landcover': 1}}, {'type': 'Feature', 'geometry': {'geodesic': False, 'type': 'Point', 'coordinates': [81.18250130185268, 26.869677897127232]}, 'id': '2', 'properties': {'landcover': 1}}, {'type': 'Feature', 'geometry': {'geodesic': False, 'type': 'Point', 'coordinates': [82.54851545141847, 27.15538020291877]}, 'id': '3', 'properties': {'landcover': 1}}, {'type': 'Feature', 'geometry': {'geodesic': False, 'type': 'Point', 'coordinates': [79.93255371401474, 26.887534291239206]}, 'id': '4', 'properties': {'landcover': 1}}, {'type': 'Feature', 'geometry': {'geodesic': False, 'type': 'Point', 'coordinates': [80.11111765513445, 26.575047394279714]}, 'id': '5', 'properties': {'landcover': 1}}, {'type': 'Feature', 'geometry': {'geodesic': False, 'type': 'Point', 'coordinates': [81.95032624866744, 26.146493935592417]}, 'id': '6', 'properties': {'landcover': 1}}, {'type': 'Feature', 'geometry': {'geodesic': False, 'type': 'Point', 'coordinates': [79.45935927004749, 28.574963534820448]}, 'id': '7', 'properties': {'landcover': 1}}, {'type': 'Feature', 'geometry': {'geodesic': False, 'type': 'Point', 'coordinates': [82.3967361014667, 27.244662173478623]}, 'id': '8', 'properties': {'landcover': 1}}, {'type': 'Feature', 'geometry': {'geodesic': False, 'type': 'Point', 'coordinates': [80.9235835872291, 27.280374961702563]}, 'id': '9', 'properties': {'landcover': 1}}, {'type': 'Feature', 'geometry': {'geodesic': False, 'type': 'Point', 'coordinates': [80.968224572509, 26.45898083255191]}, 'id': '10', 'properties': {'landcover': 1}}, {'type': 'Feature', 'geometry': {'geodesic': False, 'type': 'Point', 'coordinates': [80.79858882844533, 27.47679529693424]}, 'id': '11', 'properties': {'landcover': 1}}, {'type': 'Feature', 'geometry': {'geodesic': False, 'type': 'Point', 'coordinates': [81.2896396665245, 27.217877582310663]}, 'id': '12', 'properties': {'landcover': 1}}, {'type': 'Feature', 'geometry': {'geodesic': False, 'type': 'Point', 'coordinates': [77.66479166179445, 28.02141531734935]}, 'id': '13', 'properties': {'landcover': 1}}, {'type': 'Feature', 'geometry': {'geodesic': False, 'type': 'Point', 'coordinates': [82.84314595426596, 26.414339847271982]}, 'id': '14', 'properties': {'landcover': 1}}, {'type': 'Feature', 'geometry': {'geodesic': False, 'type': 'Point', 'coordinates': [78.50404218505705, 27.45001070576629]}, 'id': '15', 'properties': {'landcover': 1}}, {'type': 'Feature', 'geometry': {'geodesic': False, 'type': 'Point', 'coordinates': [81.93246985455542, 26.557191000167748]}, 'id': '16', 'properties': {'landcover': 1}}, {'type': 'Feature', 'geometry': {'geodesic': False, 'type': 'Point', 'coordinates': [77.63800707062646, 30.182039004897817]}, 'id': '17', 'properties': {'landcover': 1}}, {'type': 'Feature', 'geometry': {'geodesic': False, 'type': 'Point', 'coordinates': [77.78085822352224, 27.842851376229646]}, 'id': '18', 'properties': {'landcover': 1}}, {'type': 'Feature', 'geometry': {'geodesic': False, 'type': 'Point', 'coordinates': [80.97715276956504, 26.49469362077585]}, 'id': '19', 'properties': {'landcover': 1}}, {'type': 'Feature', 'geometry': {'geodesic': False, 'type': 'Point', 'coordinates': [81.18250130185268, 27.316087749926503]}, 'id': '20', 'properties': {'landcover': 1}}, {'type': 'Feature', 'geometry': {'geodesic': False, 'type': 'Point', 'coordinates': [81.8967570663315, 26.87860609418322]}, 'id': '21', 'properties': {'landcover': 1}}, {'type': 'Feature', 'geometry': {'geodesic': False, 'type': 'Point', 'coordinates': [79.83434354639886, 27.842851376229646]}, 'id': '22', 'properties': {'landcover': 1}}, {'type': 'Feature', 'geometry': {'geodesic': False, 'type': 'Point', 'coordinates': [80.80751702550131, 26.146493935592417]}, 'id': '23', 'properties': {'landcover': 1}}, {'type': 'Feature', 'geometry': {'geodesic': False, 'type': 'Point', 'coordinates': [83.6645400834166, 25.69115588573716]}, 'id': '24', 'properties': {'landcover': 1}}, {'type': 'Feature', 'geometry': {'geodesic': False, 'type': 'Point', 'coordinates': [81.93246985455542, 26.503621817831835]}, 'id': '25', 'properties': {'landcover': 1}}, {'type': 'Feature', 'geometry': {'geodesic': False, 'type': 'Point', 'coordinates': [82.03960821922729, 27.03038544413497]}, 'id': '26', 'properties': {'landcover': 1}}, {'type': 'Feature', 'geometry': {'geodesic': False, 'type': 'Point', 'coordinates': [81.4682036076442, 26.655401167783587]}, 'id': '27', 'properties': {'landcover': 1}}, {'type': 'Feature', 'geometry': {'geodesic': False, 'type': 'Point', 'coordinates': [77.97727855875391, 27.119667414694824]}, 'id': '28', 'properties': {'landcover': 1}}, {'type': 'Feature', 'geometry': {'geodesic': False, 'type': 'Point', 'coordinates': [80.76287604022136, 28.35175860842081]}, 'id': '29', 'properties': {'landcover': 1}}, {'type': 'Feature', 'geometry': {'geodesic': False, 'type': 'Point', 'coordinates': [77.53979690301063, 27.851779573285626]}, 'id': '30', 'properties': {'landcover': 1}}, {'type': 'Feature', 'geometry': {'geodesic': False, 'type': 'Point', 'coordinates': [77.74514543529833, 29.699916363874607]}, 'id': '31', 'properties': {'landcover': 1}}, {'type': 'Feature', 'geometry': {'geodesic': False, 'type': 'Point', 'coordinates': [83.10206366888954, 24.771551588970667]}, 'id': '32', 'properties': {'landcover': 1}}, {'type': 'Feature', 'geometry': {'geodesic': False, 'type': 'Point', 'coordinates': [82.36995151029876, 27.646431040997967]}, 'id': '33', 'properties': {'landcover': 1}}, {'type': 'Feature', 'geometry': {'geodesic': False, 'type': 'Point', 'coordinates': [80.995009163677, 26.923247079463145]}, 'id': '34', 'properties': {'landcover': 1}}, {'type': 'Feature', 'geometry': {'geodesic': False, 'type': 'Point', 'coordinates': [81.12000392246077, 26.307201482600156]}, 'id': '35', 'properties': {'landcover': 1}}, {'type': 'Feature', 'geometry': {'geodesic': False, 'type': 'Point', 'coordinates': [82.03960821922729, 26.307201482600156]}, 'id': '36', 'properties': {'landcover': 1}}, {'type': 'Feature', 'geometry': {'geodesic': False, 'type': 'Point', 'coordinates': [82.76279218076209, 24.97690012125834]}, 'id': '37', 'properties': {'landcover': 1}}, {'type': 'Feature', 'geometry': {'geodesic': False, 'type': 'Point', 'coordinates': [82.72707939253817, 26.182206723816357]}, 'id': '38', 'properties': {'landcover': 1}}, {'type': 'Feature', 'geometry': {'geodesic': False, 'type': 'Point', 'coordinates': [81.70926492815582, 26.23577590615227]}, 'id': '39', 'properties': {'landcover': 1}}, {'type': 'Feature', 'geometry': {'geodesic': False, 'type': 'Point', 'coordinates': [80.26289700508616, 26.13756573853643]}, 'id': '40', 'properties': {'landcover': 1}}, {'type': 'Feature', 'geometry': {'geodesic': False, 'type': 'Point', 'coordinates': [80.61109669026959, 26.5839755913357]}, 'id': '41', 'properties': {'landcover': 1}}, {'type': 'Feature', 'geometry': {'geodesic': False, 'type': 'Point', 'coordinates': [82.9413561218818, 26.316129679656143]}, 'id': '42', 'properties': {'landcover': 1}}, {'type': 'Feature', 'geometry': {'geodesic': False, 'type': 'Point', 'coordinates': [80.0218356845746, 28.557107140708474]}, 'id': '43', 'properties': {'landcover': 1}}, {'type': 'Feature', 'geometry': {'geodesic': False, 'type': 'Point', 'coordinates': [81.00393736073298, 27.521436282214168]}, 'id': '44', 'properties': {'landcover': 1}}, {'type': 'Feature', 'geometry': {'geodesic': False, 'type': 'Point', 'coordinates': [80.30753799036611, 26.664329364839574]}, 'id': '45', 'properties': {'landcover': 1}}, {'type': 'Feature', 'geometry': {'geodesic': False, 'type': 'Point', 'coordinates': [82.24495675151493, 26.735754941287453]}, 'id': '46', 'properties': {'landcover': 1}}, {'type': 'Feature', 'geometry': {'geodesic': False, 'type': 'Point', 'coordinates': [78.31655004688136, 27.110739217638844]}, 'id': '47', 'properties': {'landcover': 1}}, {'type': 'Feature', 'geometry': {'geodesic': False, 'type': 'Point', 'coordinates': [81.84318788399557, 26.825036911847306]}, 'id': '48', 'properties': {'landcover': 1}}, {'type': 'Feature', 'geometry': {'geodesic': False, 'type': 'Point', 'coordinates': [80.05754847279852, 26.476837226663875]}, 'id': '49', 'properties': {'landcover': 1}}, {'type': 'Feature', 'geometry': {'geodesic': False, 'type': 'Point', 'coordinates': [78.9772366290243, 28.360686805476796]}, 'id': '50', 'properties': {'landcover': 1}}, {'type': 'Feature', 'geometry': {'geodesic': False, 'type': 'Point', 'coordinates': [80.15575864041435, 28.485681564260588]}, 'id': '51', 'properties': {'landcover': 1}}, {'type': 'Feature', 'geometry': {'geodesic': False, 'type': 'Point', 'coordinates': [83.12884826005748, 26.26256049732023]}, 'id': '52', 'properties': {'landcover': 1}}, {'type': 'Feature', 'geometry': {'geodesic': False, 'type': 'Point', 'coordinates': [79.8164871522869, 28.21783565258103]}, 'id': '53', 'properties': {'landcover': 1}}, {'type': 'Feature', 'geometry': {'geodesic': False, 'type': 'Point', 'coordinates': [79.62899501411121, 28.62853271715636]}, 'id': '54', 'properties': {'landcover': 1}}, {'type': 'Feature', 'geometry': {'geodesic': False, 'type': 'Point', 'coordinates': [82.80743316604205, 26.03935557092059]}, 'id': '55', 'properties': {'landcover': 1}}, {'type': 'Feature', 'geometry': {'geodesic': False, 'type': 'Point', 'coordinates': [77.80764281469018, 28.360686805476796]}, 'id': '56', 'properties': {'landcover': 1}}, {'type': 'Feature', 'geometry': {'geodesic': False, 'type': 'Point', 'coordinates': [80.11111765513445, 26.10185295031249]}, 'id': '57', 'properties': {'landcover': 1}}, {'type': 'Feature', 'geometry': {'geodesic': False, 'type': 'Point', 'coordinates': [83.03063809244165, 24.709054209578767]}, 'id': '58', 'properties': {'landcover': 1}}, {'type': 'Feature', 'geometry': {'geodesic': False, 'type': 'Point', 'coordinates': [83.49490433935287, 25.771509659241033]}, 'id': '59', 'properties': {'landcover': 1}}, {'type': 'Feature', 'geometry': {'geodesic': False, 'type': 'Point', 'coordinates': [77.73621723824229, 27.717856617445847]}, 'id': '60', 'properties': {'landcover': 1}}, {'type': 'Feature', 'geometry': {'geodesic': False, 'type': 'Point', 'coordinates': [77.64693526768244, 28.101769090853217]}, 'id': '61', 'properties': {'landcover': 1}}, {'type': 'Feature', 'geometry': {'geodesic': False, 'type': 'Point', 'coordinates': [82.11996199273116, 26.20006311792833]}, 'id': '62', 'properties': {'landcover': 1}}, {'type': 'Feature', 'geometry': {'geodesic': False, 'type': 'Point', 'coordinates': [82.51280266319449, 25.923289009192786]}, 'id': '63', 'properties': {'landcover': 1}}, {'type': 'Feature', 'geometry': {'geodesic': False, 'type': 'Point', 'coordinates': [79.50400025532744, 26.42326804432797]}, 'id': '64', 'properties': {'landcover': 1}}, {'type': 'Feature', 'geometry': {'geodesic': False, 'type': 'Point', 'coordinates': [80.18254323158229, 25.94114540330476]}, 'id': '65', 'properties': {'landcover': 1}}, {'type': 'Feature', 'geometry': {'geodesic': False, 'type': 'Point', 'coordinates': [77.5755096912346, 27.378585129318402]}, 'id': '66', 'properties': {'landcover': 1}}, {'type': 'Feature', 'geometry': {'geodesic': False, 'type': 'Point', 'coordinates': [82.03960821922729, 26.664329364839574]}, 'id': '67', 'properties': {'landcover': 1}}, {'type': 'Feature', 'geometry': {'geodesic': False, 'type': 'Point', 'coordinates': [79.01294941724822, 26.664329364839574]}, 'id': '68', 'properties': {'landcover': 1}}, {'type': 'Feature', 'geometry': {'geodesic': False, 'type': 'Point', 'coordinates': [81.51284459292415, 26.32505787671213]}, 'id': '69', 'properties': {'landcover': 1}}, {'type': 'Feature', 'geometry': {'geodesic': False, 'type': 'Point', 'coordinates': [79.87005633462283, 26.048283767976578]}, 'id': '70', 'properties': {'landcover': 1}}, {'type': 'Feature', 'geometry': {'geodesic': False, 'type': 'Point', 'coordinates': [77.15588442960328, 29.08387076701161]}, 'id': '71', 'properties': {'landcover': 1}}, {'type': 'Feature', 'geometry': {'geodesic': False, 'type': 'Point', 'coordinates': [82.67351021020224, 27.36072873520643]}, 'id': '72', 'properties': {'landcover': 1}}, {'type': 'Feature', 'geometry': {'geodesic': False, 'type': 'Point', 'coordinates': [80.13790224630239, 26.68218575895154]}, 'id': '73', 'properties': {'landcover': 1}}, {'type': 'Feature', 'geometry': {'geodesic': False, 'type': 'Point', 'coordinates': [82.5753000425864, 26.6464729707276]}, 'id': '74', 'properties': {'landcover': 1}}, {'type': 'Feature', 'geometry': {'geodesic': False, 'type': 'Point', 'coordinates': [83.04849448655361, 26.289345088488183]}, 'id': '75', 'properties': {'landcover': 1}}, {'type': 'Feature', 'geometry': {'geodesic': False, 'type': 'Point', 'coordinates': [79.53078484649538, 26.405411650215996]}, 'id': '76', 'properties': {'landcover': 1}}, {'type': 'Feature', 'geometry': {'geodesic': False, 'type': 'Point', 'coordinates': [79.95933830518268, 26.03042737386461]}, 'id': '77', 'properties': {'landcover': 1}}, {'type': 'Feature', 'geometry': {'geodesic': False, 'type': 'Point', 'coordinates': [81.18250130185268, 26.45898083255191]}, 'id': '78', 'properties': {'landcover': 1}}, {'type': 'Feature', 'geometry': {'geodesic': False, 'type': 'Point', 'coordinates': [80.98608096662102, 27.566077267494094]}, 'id': '79', 'properties': {'landcover': 1}}, {'type': 'Feature', 'geometry': {'geodesic': False, 'type': 'Point', 'coordinates': [77.71836084413033, 28.271404834916943]}, 'id': '80', 'properties': {'landcover': 1}}, {'type': 'Feature', 'geometry': {'geodesic': False, 'type': 'Point', 'coordinates': [82.2628131456269, 27.557149070438108]}, 'id': '81', 'properties': {'landcover': 1}}, {'type': 'Feature', 'geometry': {'geodesic': False, 'type': 'Point', 'coordinates': [77.33444837072298, 28.557107140708474]}, 'id': '82', 'properties': {'landcover': 1}}, {'type': 'Feature', 'geometry': {'geodesic': False, 'type': 'Point', 'coordinates': [81.12000392246077, 26.96788806474307]}, 'id': '83', 'properties': {'landcover': 1}}, {'type': 'Feature', 'geometry': {'geodesic': False, 'type': 'Point', 'coordinates': [82.28959773679489, 27.369656932262416]}, 'id': '84', 'properties': {'landcover': 1}}, {'type': 'Feature', 'geometry': {'geodesic': False, 'type': 'Point', 'coordinates': [82.72707939253817, 25.967929994472712]}, 'id': '85', 'properties': {'landcover': 1}}, {'type': 'Feature', 'geometry': {'geodesic': False, 'type': 'Point', 'coordinates': [81.00393736073298, 27.35180053815045]}, 'id': '86', 'properties': {'landcover': 1}}, {'type': 'Feature', 'geometry': {'geodesic': False, 'type': 'Point', 'coordinates': [82.47708987497057, 27.53929267632614]}, 'id': '87', 'properties': {'landcover': 1}}, {'type': 'Feature', 'geometry': {'geodesic': False, 'type': 'Point', 'coordinates': [78.24512447043347, 26.84289330595928]}, 'id': '88', 'properties': {'landcover': 1}}, {'type': 'Feature', 'geometry': {'geodesic': False, 'type': 'Point', 'coordinates': [79.44150287593553, 27.083954626470884]}, 'id': '89', 'properties': {'landcover': 1}}, {'type': 'Feature', 'geometry': {'geodesic': False, 'type': 'Point', 'coordinates': [81.83425968693959, 27.208949385254684]}, 'id': '90', 'properties': {'landcover': 1}}, {'type': 'Feature', 'geometry': {'geodesic': False, 'type': 'Point', 'coordinates': [78.01299134697788, 28.31604582019687]}, 'id': '91', 'properties': {'landcover': 1}}, {'type': 'Feature', 'geometry': {'geodesic': False, 'type': 'Point', 'coordinates': [78.21833987926553, 29.62849078742672]}, 'id': '92', 'properties': {'landcover': 1}}, {'type': 'Feature', 'geometry': {'geodesic': False, 'type': 'Point', 'coordinates': [81.33428065180445, 27.28930315875855]}, 'id': '93', 'properties': {'landcover': 1}}, {'type': 'Feature', 'geometry': {'geodesic': False, 'type': 'Point', 'coordinates': [78.50404218505705, 27.083954626470884]}, 'id': '94', 'properties': {'landcover': 1}}, {'type': 'Feature', 'geometry': {'geodesic': False, 'type': 'Point', 'coordinates': [82.9413561218818, 25.244746032937897]}, 'id': '95', 'properties': {'landcover': 1}}, {'type': 'Feature', 'geometry': {'geodesic': False, 'type': 'Point', 'coordinates': [80.48610193148582, 27.06609823235891]}, 'id': '96', 'properties': {'landcover': 1}}, {'type': 'Feature', 'geometry': {'geodesic': False, 'type': 'Point', 'coordinates': [77.38801755305886, 27.77142579978176]}, 'id': '97', 'properties': {'landcover': 1}}, {'type': 'Feature', 'geometry': {'geodesic': False, 'type': 'Point', 'coordinates': [81.53962918409209, 26.083996556200518]}, 'id': '98', 'properties': {'landcover': 1}}, {'type': 'Feature', 'geometry': {'geodesic': False, 'type': 'Point', 'coordinates': [77.53979690301063, 27.503579888102195]}, 'id': '99', 'properties': {'landcover': 1}}]}\n"
     ]
    }
   ],
   "source": [
    "gaul = ee.FeatureCollection(\"FAO/GAUL/2015/level1\")\n",
    "gfsad = ee.Image(\"USGS/GFSAD1000_V0\")\n",
    "wheatrice = gfsad.select('landcover').eq(1)\n",
    "uttarpradesh = gaul.filter(ee.Filter.eq('ADM1_NAME', 'Uttar Pradesh'))\n",
    "points = wheatrice.selfMask().stratifiedSample(**{\n",
    "    'numPoints': 100, \n",
    "    'region': uttarpradesh, \n",
    "    'geometries': True\n",
    "})\n",
    "print(points.getInfo())"
   ]
  },
  {
   "cell_type": "markdown",
   "id": "246da6aa",
   "metadata": {},
   "source": [
    "### In-line functions\n",
    "\n",
    "The syntax for defining in-line functions is also slightly different. You need to use the lambda keyword:"
   ]
  },
  {
   "cell_type": "code",
   "execution_count": 7,
   "id": "1ef4d6c6",
   "metadata": {},
   "outputs": [],
   "source": [
    "points = points.map(lambda feature: ee.Feature(feature.geometry(), {'id': feature.id()} ))"
   ]
  },
  {
   "cell_type": "markdown",
   "id": "ca89b60e",
   "metadata": {},
   "source": [
    "### Printing Values\n",
    "\n",
    "The `print()` function syntax is the same. But you must remember that in the Code Editor, when you can print, the value of the server object is fetched and then printed. You must do that explicitely by calling `getInfo()` on any server-side object:"
   ]
  },
  {
   "cell_type": "code",
   "execution_count": 8,
   "id": "60a3796b",
   "metadata": {},
   "outputs": [
    {
     "name": "stdout",
     "output_type": "stream",
     "text": [
      "{'type': 'Feature', 'geometry': {'geodesic': False, 'type': 'Point', 'coordinates': [80.54859931087773, 26.557191000167748]}, 'id': '0', 'properties': {'id': '0'}}\n"
     ]
    }
   ],
   "source": [
    "print(points.first().getInfo())"
   ]
  },
  {
   "cell_type": "markdown",
   "id": "5b649076",
   "metadata": {},
   "source": [
    "### Automatic Conversion of Scripts\n",
    "\n",
    "[geemap](https://github.com/giswqs/geemap) is an open-source Python package that comes with many helpful features that help you use Earth Engine effectively in Python.\n",
    "\n",
    "It comes with a function that can help you translate your javascript earth engine code to Python automatically.\n",
    "\n",
    "The automatic conversion works great, but it is not perfect. You may have to tweak the output a bit. An important filter that is missing from the Python API is the `ee.Filter.bounds()`. You can use an alternative `ee.Filter.geometry()` instead."
   ]
  },
  {
   "cell_type": "code",
   "execution_count": 9,
   "id": "8ff2e418",
   "metadata": {},
   "outputs": [],
   "source": [
    "javascript_code = \"\"\"\n",
    "var geometry = ee.Geometry.Point([107.61303468448624, 12.130969369851766]);\n",
    "Map.centerObject(geometry, 12)\n",
    "var s2 = ee.ImageCollection(\"COPERNICUS/S2\")\n",
    "var rgbVis = {\n",
    "  min: 0.0,\n",
    "  max: 3000,\n",
    "  bands: ['B4', 'B3', 'B2'],\n",
    "};\n",
    "\n",
    "// Write a function for Cloud masking\n",
    "function maskS2clouds(image) {\n",
    "  var qa = image.select('QA60')\n",
    "  var cloudBitMask = 1 << 10;\n",
    "  var cirrusBitMask = 1 << 11;\n",
    "  var mask = qa.bitwiseAnd(cloudBitMask).eq(0).and(\n",
    "             qa.bitwiseAnd(cirrusBitMask).eq(0))\n",
    "  return image.updateMask(mask)\n",
    "      .select(\"B.*\")\n",
    "      .copyProperties(image, [\"system:time_start\"])\n",
    "}\n",
    " \n",
    "var filtered = s2\n",
    "  .filter(ee.Filter.date('2019-01-01', '2019-12-31'))\n",
    "  .filter(ee.Filter.bounds(geometry))\n",
    "  .map(maskS2clouds)\n",
    "  \n",
    "\n",
    "// Write a function that computes NDVI for an image and adds it as a band\n",
    "function addNDVI(image) {\n",
    "  var ndvi = image.normalizedDifference(['B5', 'B4']).rename('ndvi');\n",
    "  return image.addBands(ndvi);\n",
    "}\n",
    "\n",
    "var withNdvi = filtered.map(addNDVI);\n",
    "\n",
    "var composite = withNdvi.median()\n",
    "palette = [\n",
    "  'FFFFFF', 'CE7E45', 'DF923D', 'F1B555', 'FCD163', '99B718',\n",
    "  '74A901', '66A000', '529400', '3E8601', '207401', '056201',\n",
    "  '004C00', '023B01', '012E01', '011D01', '011301'];\n",
    "\n",
    "ndviVis = {min:0, max:0.5, palette: palette }\n",
    "Map.addLayer(withNdvi.select('ndvi'), ndviVis, 'NDVI Composite')\n",
    "\n",
    "\"\"\""
   ]
  },
  {
   "cell_type": "code",
   "execution_count": 13,
   "id": "eb75d8c1",
   "metadata": {},
   "outputs": [],
   "source": [
    "geemap.js_snippet_to_py(javascript_code)"
   ]
  },
  {
   "cell_type": "code",
   "execution_count": 16,
   "id": "e0af5cd3",
   "metadata": {},
   "outputs": [
    {
     "data": {
      "application/vnd.jupyter.widget-view+json": {
       "model_id": "69d25c322c484c4c87674feb6883bad3",
       "version_major": 2,
       "version_minor": 0
      },
      "text/plain": [
       "Map(center=[12.130969369851766, 107.61303468448625], controls=(WidgetControl(options=['position', 'transparent…"
      ]
     },
     "metadata": {},
     "output_type": "display_data"
    }
   ],
   "source": [
    "import ee\n",
    "import geemap\n",
    "\n",
    "Map = geemap.Map()\n",
    "\n",
    "geometry = ee.Geometry.Point([107.61303468448624, 12.130969369851766])\n",
    "Map.centerObject(geometry, 12)\n",
    "s2 = ee.ImageCollection(\"COPERNICUS/S2\")\n",
    "rgbVis = {\n",
    "  'min': 0.0,\n",
    "  'max': 3000,\n",
    "  'bands': ['B4', 'B3', 'B2'],\n",
    "}\n",
    "\n",
    "# Write a function for Cloud masking\n",
    "def maskS2clouds(image):\n",
    "    qa = image.select('QA60')\n",
    "    cloudBitMask = 1 << 10\n",
    "    cirrusBitMask = 1 << 11\n",
    "    mask = qa.bitwiseAnd(cloudBitMask).eq(0).And(\n",
    "             qa.bitwiseAnd(cirrusBitMask).eq(0))\n",
    "    return image.updateMask(mask) \\\n",
    "      .select(\"B.*\") \\\n",
    "      .copyProperties(image, [\"system:time_start\"])\n",
    "\n",
    "filtered = s2 \\\n",
    "  .filter(ee.Filter.date('2019-01-01', '2019-12-31')) \\\n",
    "  .filter(ee.Filter.geometry(geometry)) \\\n",
    "  .map(maskS2clouds)\n",
    "\n",
    "# Write a function that computes NDVI for an image and adds it as a band\n",
    "def addNDVI(image):\n",
    "    ndvi = image.normalizedDifference(['B5', 'B4']).rename('ndvi')\n",
    "    return image.addBands(ndvi)\n",
    "\n",
    "withNdvi = filtered.map(addNDVI)\n",
    "\n",
    "composite = withNdvi.median()\n",
    "palette = [\n",
    "  'FFFFFF', 'CE7E45', 'DF923D', 'F1B555', 'FCD163', '99B718',\n",
    "  '74A901', '66A000', '529400', '3E8601', '207401', '056201',\n",
    "  '004C00', '023B01', '012E01', '011D01', '011301']\n",
    "\n",
    "ndviVis = {'min':0, 'max':0.5, 'palette': palette }\n",
    "Map.addLayer(withNdvi.select('ndvi'), ndviVis, 'NDVI Composite')\n",
    "Map"
   ]
  },
  {
   "cell_type": "markdown",
   "id": "e154e224",
   "metadata": {},
   "source": [
    "---"
   ]
  }
 ],
 "metadata": {
  "kernelspec": {
   "display_name": "Python 3",
   "language": "python",
   "name": "python3"
  },
  "language_info": {
   "codemirror_mode": {
    "name": "ipython",
    "version": 3
   },
   "file_extension": ".py",
   "mimetype": "text/x-python",
   "name": "python",
   "nbconvert_exporter": "python",
   "pygments_lexer": "ipython3",
   "version": "3.8.8"
  }
 },
 "nbformat": 4,
 "nbformat_minor": 5
}
