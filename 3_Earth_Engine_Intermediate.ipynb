{
 "cells": [
  {
   "cell_type": "markdown",
   "id": "51a9cd6d",
   "metadata": {},
   "source": [
    "# 3. Earth Engine Intermediate\n",
    "\n",
    "Module 2 builds on the basic Earth Engine skills you have gained. This model introduces the parallel programming concepts using Map/Reduce - which is key in effectively using Earth Engine for analyzing large volumes of data. You will learn how to use the Earth Engine API for calculating various spectral indices, do cloud masking and then use map/reduce to do apply these computations to collections of imagery. You will also learn how to take long time-series of data and create charts."
   ]
  },
  {
   "cell_type": "code",
   "execution_count": 1,
   "id": "8c8b7240",
   "metadata": {},
   "outputs": [],
   "source": [
    "%load_ext autoreload\n",
    "%load_ext dotenv\n",
    "%autoreload 2\n",
    "%dotenv"
   ]
  },
  {
   "cell_type": "code",
   "execution_count": 2,
   "id": "02f9d0ba",
   "metadata": {},
   "outputs": [],
   "source": [
    "import numpy as np\n",
    "import pandas as pd\n",
    "import matplotlib.pyplot as plt\n",
    "\n",
    "import geemap\n",
    "from geemap import Map"
   ]
  },
  {
   "cell_type": "code",
   "execution_count": 3,
   "id": "6f45ac74",
   "metadata": {},
   "outputs": [],
   "source": [
    "import ee\n",
    "ee.Initialize()"
   ]
  },
  {
   "cell_type": "markdown",
   "id": "7db73d57",
   "metadata": {},
   "source": [
    "Let's init a map:"
   ]
  },
  {
   "cell_type": "code",
   "execution_count": null,
   "id": "e7b1069b",
   "metadata": {},
   "outputs": [],
   "source": [
    "m = Map()\n",
    "m"
   ]
  },
  {
   "cell_type": "markdown",
   "id": "186c3d60",
   "metadata": {},
   "source": [
    "## 01. Earth Engine Objects\n",
    "\n",
    "This script introduces the basics of the Earth Engine API. When programming in Earth Engine, you must use the Earth Engine API so that your computations can use the Google Earth Engine servers. To learn more, visit Earth Engine Objects and Methods section of the Earth Engine User Guide."
   ]
  },
  {
   "cell_type": "code",
   "execution_count": 29,
   "id": "bd535a5e",
   "metadata": {},
   "outputs": [
    {
     "name": "stdout",
     "output_type": "stream",
     "text": [
      "2\n",
      "[2, 3, 4, 5, 6, 7, 8, 9, 10, 11]\n",
      "2\n"
     ]
    }
   ],
   "source": [
    "# Let's see how to take a list of numbers and add 1 to each element\n",
    "my_list = ee.List.sequence(1, 10)\n",
    "\n",
    "# Define a function that takes a number and adds 1 to it\n",
    "my_function = lambda number: number + 1\n",
    "print(my_function(1))\n",
    "\n",
    "# Re-Define a function using Earth Engine API\n",
    "my_function = lambda number: ee.Number(number).add(1)\n",
    "\n",
    "# Map the function of the list\n",
    "new_list = my_list.map(my_function)\n",
    "print(new_list.getInfo())\n",
    "\n",
    "# Extracting value from a list\n",
    "value = new_list.get(0)\n",
    "print(value.getInfo())"
   ]
  },
  {
   "cell_type": "code",
   "execution_count": 30,
   "id": "f4a4c5b3",
   "metadata": {},
   "outputs": [
    {
     "ename": "AttributeError",
     "evalue": "'ComputedObject' object has no attribute 'add'",
     "output_type": "error",
     "traceback": [
      "\u001b[0;31m---------------------------------------------------------------------------\u001b[0m",
      "\u001b[0;31mAttributeError\u001b[0m                            Traceback (most recent call last)",
      "\u001b[0;32m<ipython-input-30-e9e1039b5239>\u001b[0m in \u001b[0;36m<module>\u001b[0;34m\u001b[0m\n\u001b[1;32m      2\u001b[0m \u001b[0;34m\u001b[0m\u001b[0m\n\u001b[1;32m      3\u001b[0m \u001b[0;31m# Let's try to do some computation on the extracted value\u001b[0m\u001b[0;34m\u001b[0m\u001b[0;34m\u001b[0m\u001b[0;34m\u001b[0m\u001b[0m\n\u001b[0;32m----> 4\u001b[0;31m \u001b[0mnew_value\u001b[0m \u001b[0;34m=\u001b[0m \u001b[0mvalue\u001b[0m\u001b[0;34m.\u001b[0m\u001b[0madd\u001b[0m\u001b[0;34m(\u001b[0m\u001b[0;36m1\u001b[0m\u001b[0;34m)\u001b[0m\u001b[0;34m\u001b[0m\u001b[0;34m\u001b[0m\u001b[0m\n\u001b[0m\u001b[1;32m      5\u001b[0m \u001b[0mprint\u001b[0m\u001b[0;34m(\u001b[0m\u001b[0mnew_value\u001b[0m\u001b[0;34m)\u001b[0m\u001b[0;34m\u001b[0m\u001b[0;34m\u001b[0m\u001b[0m\n",
      "\u001b[0;31mAttributeError\u001b[0m: 'ComputedObject' object has no attribute 'add'"
     ]
    }
   ],
   "source": [
    "# Casting\n",
    "\n",
    "# Let's try to do some computation on the extracted value\n",
    "new_value = value.add(1)\n",
    "print(new_value)"
   ]
  },
  {
   "cell_type": "code",
   "execution_count": 31,
   "id": "46b6701a",
   "metadata": {},
   "outputs": [
    {
     "name": "stdout",
     "output_type": "stream",
     "text": [
      "3\n"
     ]
    }
   ],
   "source": [
    "# You get an error because Earth Engine doesn't know what is the type of 'value'\n",
    "# We need to cast it to appropriate type first\n",
    "value = ee.Number(value)\n",
    "new_value = value.add(1)\n",
    "print(new_value.getInfo())"
   ]
  },
  {
   "cell_type": "code",
   "execution_count": 32,
   "id": "15b70195",
   "metadata": {},
   "outputs": [
    {
     "data": {
      "text/plain": [
       "{'type': 'Date', 'value': 1577836800000}"
      ]
     },
     "execution_count": 32,
     "metadata": {},
     "output_type": "execute_result"
    }
   ],
   "source": [
    "# Dates\n",
    "# For any date computation, you should use ee.Date module\n",
    "date = ee.Date('2019-01-01')\n",
    "future_date = date.advance(1, 'year')\n",
    "future_date.getInfo()"
   ]
  },
  {
   "cell_type": "markdown",
   "id": "7596a340",
   "metadata": {},
   "source": [
    "As a general rule, **you should always use Earth Engine API methods in your code**. \n",
    "\n",
    "There is one exception where you will need to use client-side Python method. If you want to get the current time, the server doesn’t know your time. You need to use Python method and cast it to an Earth Engine object."
   ]
  },
  {
   "cell_type": "code",
   "execution_count": 34,
   "id": "4bc687d9",
   "metadata": {},
   "outputs": [
    {
     "name": "stdout",
     "output_type": "stream",
     "text": [
      "{'type': 'Date', 'value': 1624116058684}\n"
     ]
    }
   ],
   "source": [
    "from datetime import datetime\n",
    "\n",
    "now = ee.Date(datetime.now())\n",
    "print(now.getInfo())"
   ]
  },
  {
   "cell_type": "markdown",
   "id": "8951c937",
   "metadata": {},
   "source": [
    "### Exercise"
   ]
  },
  {
   "cell_type": "code",
   "execution_count": 35,
   "id": "8a51f6db",
   "metadata": {},
   "outputs": [
    {
     "name": "stdout",
     "output_type": "stream",
     "text": [
      "3\n"
     ]
    }
   ],
   "source": [
    "s2 = ee.ImageCollection(\"COPERNICUS/S2\")\n",
    "geometry = ee.Geometry.Point([77.60412933051538, 12.952912912328241])\n",
    "\n",
    "now = ee.Date(datetime.now())\n",
    "\n",
    "# Apply another filter to the collection below to filter images\n",
    "# collected in the last 1-month\n",
    "# Do not hard-code the dates, it should always show images\n",
    "# from the past 1-month whenever you run the script\n",
    "# Hint: Use ee.Date.advance() function\n",
    "# to compute the date 1 month before now\n",
    "filtered = s2.filter(ee.Filter.lt(\"CLOUDY_PIXEL_PERCENTAGE\", 30))\\\n",
    "    .filter(ee.Filter.geometry(geometry))\\\n",
    "    .filterDate(now.advance(-1, \"month\"), now)\n",
    "\n",
    "print(filtered.size().getInfo())"
   ]
  },
  {
   "cell_type": "markdown",
   "id": "0b0a9bf2",
   "metadata": {},
   "source": [
    "## 2. Calculating Indices\n",
    "\n",
    "Spectral Indices are central to many aspects of remote sensing. Whether you are studying vegetation or tracking fires. You will need to compute a pixel-wise ratio of 2 or more bands. The most commonly used formula for calculating an index is the Normalized Difference between 2 bands. Earth Engine provides a helper function `normalizedDifference()` to help calculate normalized indices, such as Normalized Difference Vegetation Index (NDVI). For more complex formula, you can also use the `expression()` function to describe the calculation."
   ]
  },
  {
   "cell_type": "code",
   "execution_count": 36,
   "id": "23778aa9",
   "metadata": {},
   "outputs": [],
   "source": [
    "# Get the Sentinel-2 image collection\n",
    "s2 = ee.ImageCollection(\"COPERNICUS/S2\")\n",
    "\n",
    "# Get the administrative borders \n",
    "admin2 = ee.FeatureCollection(\"FAO/GAUL_SIMPLIFIED_500m/2015/level2\")\n",
    "\n",
    "# Filter for Bangalore\n",
    "bangalore = admin2.filter(ee.Filter.eq('ADM2_NAME', 'Bangalore Urban'))\n",
    "geometry = bangalore.geometry()\n",
    "\n",
    "filtered = s2.filter(ee.Filter.lt('CLOUDY_PIXEL_PERCENTAGE', 30))\\\n",
    "    .filter(ee.Filter.date('2019-01-01', '2019-12-31'))\\\n",
    "    .filter(ee.Filter.geometry(geometry))\n",
    "\n",
    "# Calculate the median of the image collection\n",
    "image = filtered.median() \n",
    "\n",
    "# Calculate  Normalized Difference Vegetation Index (NDVI)\n",
    "# based on 'NIR' (B8) & 'RED' (B4)\n",
    "ndvi = image.normalizedDifference(['B8', 'B4']).rename(['ndvi'])\n",
    "\n",
    "# Calculate Modified Normalized Difference Water Index (MNDWI)\n",
    "# based on 'GREEN' (B3) and 'SWIR1' (B11)\n",
    "mndwi = image.normalizedDifference(['B3', 'B11']).rename(['mndwi']) \n",
    "\n",
    "# Calculate Soil-adjusted Vegetation Index (SAVI)\n",
    "# 1.5 * ((NIR - RED) / (NIR + RED + 0.5))\n",
    "\n",
    "# For more complex indices, you can use the expression() function\n",
    "# Note: \n",
    "# For the SAVI formula, the pixel values need to converted to reflectances\n",
    "# Multiplyng the pixel values by 'scale' gives us the reflectance value\n",
    "# The scale value is 0.0001 for Sentinel-2 dataset\n",
    "savi = image.expression(\n",
    "    \"1.5 * ((NIR - RED) / (NIR + RED + 0.5))\", {\n",
    "      'NIR': image.select('B8').multiply(0.0001),\n",
    "      'RED': image.select('B4').multiply(0.0001),\n",
    "}).rename('savi')\n",
    "\n",
    "rgbVis = {\"min\": 0.0, \"max\": 3000, \"bands\": ['B4', 'B3', 'B2']};\n",
    "ndviVis = {\"min\": 0, \"max\": 1, \"palette\": ['white', 'green']}\n",
    "ndwiVis = {\"min\": 0, \"max\": 0.5, \"palette\": ['white', 'blue']}\n",
    "\n",
    "m.addLayer(image.clip(geometry), rgbVis, 'Image')\n",
    "m.addLayer(mndwi.clip(geometry), ndwiVis, 'mndwi')\n",
    "m.addLayer(savi.clip(geometry), ndviVis, 'savi') \n",
    "m.addLayer(ndvi.clip(geometry), ndviVis, 'ndvi')"
   ]
  },
  {
   "cell_type": "markdown",
   "id": "db2bc851",
   "metadata": {},
   "source": [
    "### Exercise"
   ]
  },
  {
   "cell_type": "code",
   "execution_count": 37,
   "id": "97023dba",
   "metadata": {},
   "outputs": [],
   "source": [
    "s2 = ee.ImageCollection(\"COPERNICUS/S2\")\n",
    "admin2 = ee.FeatureCollection(\"FAO/GAUL_SIMPLIFIED_500m/2015/level2\")\n",
    "\n",
    "bangalore = admin2.filter(ee.Filter.eq('ADM2_NAME', 'Bangalore Urban'))\n",
    "geometry = bangalore.geometry()\n",
    "\n",
    "filtered = s2.filter(ee.Filter.lt('CLOUDY_PIXEL_PERCENTAGE', 30))\\\n",
    "    .filter(ee.Filter.date('2019-01-01', '2019-12-31'))\\\n",
    "    .filter(ee.Filter.geometry(geometry))\n",
    "\n",
    "image = filtered.median() \n",
    "\n",
    "# Exercise\n",
    "# Calculate the Normalized Difference Built-Up Index (NDBI) for the image\n",
    "# Hint: NDBI = (SWIR1 – NIR) / (SWIR1 + NIR)\n",
    "# Visualize the built-up area using a 'red' palette\n",
    "ndbi = image.expression(\n",
    "    '(SWIR1 - NIR) / (SWIR1 + NIR)', {\n",
    "      'NIR': image.select('B8').multiply(0.0001),\n",
    "      'SWIR1': image.select('B11').multiply(0.0001),\n",
    "}).rename('ndbi')\n",
    "\n",
    "ndbiVis = {\"min\": 0, \"max\": 1, \"palette\": ['white', 'red']}\n",
    "m.addLayer(ndbi.clip(geometry), ndbiVis, 'ndbi')"
   ]
  },
  {
   "cell_type": "markdown",
   "id": "a00ff9e7",
   "metadata": {},
   "source": [
    "## 3. Computation on ImageCollections\n",
    "\n",
    "So far we have learnt how to run computation on single images. If you want to apply some computation - such as calculating an index - to many images, you need to use `map()`. \n",
    "\n",
    "You first define a function that takes 1 image and returns the result of the computation on that image. Then you can `map()` that function over the `ImageCollection` which results in a new `ImageCollection` with the results of the computation. This is similar to a for-loop that you maybe familiar with - but using `map()` allows the computation to run in parallel."
   ]
  },
  {
   "cell_type": "code",
   "execution_count": 38,
   "id": "1f5f2748",
   "metadata": {},
   "outputs": [],
   "source": [
    "s2 = ee.ImageCollection(\"COPERNICUS/S2\")\n",
    "admin1 = ee.FeatureCollection(\"FAO/GAUL_SIMPLIFIED_500m/2015/level1\")\n",
    "    \n",
    "karnataka = admin1.filter(ee.Filter.eq('ADM1_NAME', 'Karnataka'))\n",
    "geometry = karnataka.geometry()\n",
    "rgbVis = {\"min\": 0.0, \"max\": 3000, \"bands\": ['B4', 'B3', 'B2']}\n",
    "\n",
    "filtered = s2.filter(ee.Filter.lt('CLOUDY_PIXEL_PERCENTAGE', 30))\\\n",
    "    .filter(ee.Filter.date('2019-01-01', '2019-12-31'))\\\n",
    "    .filter(ee.Filter.geometry(geometry))\n",
    "\n",
    "composite = filtered.median().clip(karnataka)\n",
    "m.addLayer(composite, rgbVis, 'Karnataka Composite')  \n",
    "\n",
    "# Write a function that computes NDVI for an image and adds it as a band\n",
    "def add_ndvi(img):\n",
    "    ndvi = img.normalizedDifference([\"B8\", \"B4\"]).rename(\"ndvi\")\n",
    "    return img.addBands(ndvi)\n",
    "\n",
    "# Map the function over the collection\n",
    "with_ndvi = filtered.map(add_ndvi)\n",
    "\n",
    "composite = with_ndvi.median()\n",
    "\n",
    "ndvi_composite = composite.select('ndvi').clip(karnataka)\n",
    "\n",
    "palette = [\n",
    "  'FFFFFF', 'CE7E45', 'DF923D', 'F1B555', 'FCD163', '99B718',\n",
    "  '74A901', '66A000', '529400', '3E8601', '207401', '056201',\n",
    "  '004C00', '023B01', '012E01', '011D01', '011301']\n",
    "\n",
    "ndviVis = {\"min\": 0, \"max\": 0.5, \"palette\": palette}\n",
    "m.addLayer(ndvi_composite, ndviVis, 'ndvi')"
   ]
  },
  {
   "cell_type": "markdown",
   "id": "82614098",
   "metadata": {},
   "source": [
    "### Exercise"
   ]
  },
  {
   "cell_type": "code",
   "execution_count": 39,
   "id": "f8506d2d",
   "metadata": {},
   "outputs": [],
   "source": [
    "s2 = ee.ImageCollection(\"COPERNICUS/S2\")\n",
    "admin1 = ee.FeatureCollection(\"FAO/GAUL_SIMPLIFIED_500m/2015/level1\")\n",
    "  \n",
    "karnataka = admin1.filter(ee.Filter.eq('ADM1_NAME', 'Karnataka'))\n",
    "geometry = karnataka.geometry()\n",
    "rgbVis = {\"min\": 0.0, \"max\": 3000, \"bands\": ['B4', 'B3', 'B2']}\n",
    "\n",
    "filtered = s2.filter(ee.Filter.lt('CLOUDY_PIXEL_PERCENTAGE', 30))\\\n",
    "    .filter(ee.Filter.date('2019-01-01', '2019-12-31'))\\\n",
    "    .filter(ee.Filter.geometry(geometry))\n",
    "\n",
    "composite = filtered.median().clip(karnataka)\n",
    "m.addLayer(composite, rgbVis, 'Karnataka Composite')  \n",
    "\n",
    "# This function calculates both NDVI an d NDWI indices\n",
    "# and returns an image with 2 new bands added to the original image.\n",
    "def add_indices(img):\n",
    "    ndvi = img.normalizedDifference([\"B8\", \"B4\"]).rename(\"ndvi\")\n",
    "    ndwi = img.normalizedDifference([\"B3\", \"B8\"]).rename(\"ndwi\")\n",
    "    return img.addBands(ndvi).addBands(ndwi)\n",
    "\n",
    "# Map the function over the collection\n",
    "with_indices = filtered.map(add_indices)\n",
    "\n",
    "# Composite\n",
    "composite = with_indices.median()\n",
    "\n",
    "# Extract the 'ndwi' band and display a NDWI map\n",
    "# use the palette ['white', 'blue']\n",
    "viz = {\"min\": 0, \"max\": 1, \"palette\": [\"white\", \"blue\"]}\n",
    "m.addLayer(composite.select(\"ndwi\").clip(karnataka), viz, name=\"Blue Karnataka\")"
   ]
  },
  {
   "cell_type": "markdown",
   "id": "64d62f88",
   "metadata": {},
   "source": [
    "## 04. Cloud Masking\n",
    "\n",
    "Masking pixels in an image makes those pixels transparent and excludes them from analysis and visualization. To mask an image, we can use the `updateMask()` function and pass it an image with `0` and `1` values. All pixels where the mask image is `0` will be masked.\n",
    "\n",
    "Most remote sensing datasets come with a `QA` or Cloud Mask band that contains the information on whether pixels is cloudy or not.\n",
    "\n",
    "The script below takes the Sentinel-2 masking function and shows how to apply it on an image."
   ]
  },
  {
   "cell_type": "code",
   "execution_count": 40,
   "id": "4e734170",
   "metadata": {},
   "outputs": [],
   "source": [
    "image = ee.Image('COPERNICUS/S2/20190703T050701_20190703T052312_T43PGP')\n",
    "rgbVis = {\n",
    "  \"min\": 0.0,\n",
    "  \"max\": 3000,\n",
    "  \"bands\": ['B4', 'B3', 'B2'],\n",
    "}\n",
    "\n",
    "m.centerObject(image)\n",
    "m.addLayer(image, rgbVis, 'Full Image')\n",
    "\n",
    "# Write a function for Cloud masking\n",
    "def maskS2clouds(image):\n",
    "    qa = image.select('QA60')\n",
    "    cloudBitMask = 1 << 10\n",
    "    cirrusBitMask = 1 << 11\n",
    "    mask = qa.bitwiseAnd(cloudBitMask).eq(0).And(qa.bitwiseAnd(cirrusBitMask).eq(0))\n",
    "    return image.updateMask(mask).select(\"B.*\").copyProperties(image, [\"system:time_start\"])\n",
    "\n",
    "maskedImage = ee.Image(maskS2clouds(image))\n",
    "m.addLayer(maskedImage, rgbVis, 'Masked Image')"
   ]
  },
  {
   "cell_type": "markdown",
   "id": "a8755e6b",
   "metadata": {},
   "source": [
    "### Exercise"
   ]
  },
  {
   "cell_type": "code",
   "execution_count": 41,
   "id": "3fc6a110",
   "metadata": {},
   "outputs": [],
   "source": [
    "# Get the Level-2A Surface Reflectance image\n",
    "imageSR = ee.Image('COPERNICUS/S2_SR/20190703T050701_20190703T052312_T43PGP')\n",
    "rgbVis = {\n",
    "  \"min\": 0.0,\n",
    "  \"max\": 3000,\n",
    "  \"bands\": ['B4', 'B3', 'B2'],\n",
    "}\n",
    "m.centerObject(imageSR)\n",
    "m.addLayer(imageSR, rgbVis, 'SR Image')\n",
    "\n",
    "\n",
    "# Function to remove cloud and snow pixels from Sentinel-2 SR image\n",
    "def maskCloudAndShadowsSR(image):\n",
    "    cloudProb = image.select('MSK_CLDPRB')\n",
    "    snowProb = image.select('MSK_SNWPRB')\n",
    "    cloud = cloudProb.lt(5)\n",
    "    snow = snowProb.lt(5)\n",
    "    scl = image.select('SCL')\n",
    "    shadow = scl.eq(3)\n",
    "    cirrus = scl.eq(10)\n",
    "    # Cloud probability less than 5% or cloud shadow classification\n",
    "    mask = (cloud.And(snow)).And(cirrus.neq(1)).And(shadow.neq(1))\n",
    "    return image.updateMask(mask)\n",
    "\n",
    "# Exercise\n",
    "# Apply the above cloud masking function to SR image\n",
    "# Add the masked image to the map\n",
    "masked = maskCloudAndShadowsSR(imageSR)\n",
    "m.addLayer(masked, rgbVis, name=\"masked img\")\n",
    "\n",
    "# Hint: After adding the masked image to the map, turn-off\n",
    "# the original image layer to see the result of the masking function"
   ]
  },
  {
   "cell_type": "markdown",
   "id": "54be5fa0",
   "metadata": {},
   "source": [
    "## 05. Reducers\n",
    "\n",
    "When writing parallel computing code, a Reduce operation allows you to compute statistics on a large amount of inputs. In Earth Engine, you need to run reduction operation when creating composites, calculating statistics, doing regression analysis etc. \n",
    "\n",
    "The Earth Engine API comes with a large number of built-in reducer functions (such as `ee.Reducer.sum()`, `ee.Reducer.histogram()`, `ee.Reducer.linearFit()` etc.) that can perform a variety of statistical operations on input data. \n",
    "\n",
    "You can run reducers using the `reduce()` function. Earth Engine supports running reducers on all data structures that can hold multiple values, such as Images (reducers run on different bands), `ImageCollection`, `FeatureCollection`, `List`, `Dictionary` etc. \n",
    "\n",
    "The script below introduces basic concepts related to reducers."
   ]
  },
  {
   "cell_type": "code",
   "execution_count": 42,
   "id": "920bb321",
   "metadata": {},
   "outputs": [
    {
     "name": "stdout",
     "output_type": "stream",
     "text": [
      "<class 'ee.ee_list.List'>\n",
      "<class 'ee.computedobject.ComputedObject'>\n",
      "<class 'ee.ee_number.Number'>\n",
      "Reducer on Collection <class 'dict'>\n",
      "Image <class 'ee.image.Image'>\n",
      "Reducer on Image <class 'ee.image.Image'>\n",
      "<class 'ee.dictionary.Dictionary'>\n",
      "Average value in B4 ee.ComputedObject({\n",
      "  \"functionInvocationValue\": {\n",
      "    \"functionName\": \"Dictionary.get\",\n",
      "    \"arguments\": {\n",
      "      \"dictionary\": {\n",
      "        \"functionInvocationValue\": {\n",
      "          \"functionName\": \"Image.reduceRegion\",\n",
      "          \"arguments\": {\n",
      "            \"geometry\": {\n",
      "              \"functionInvocationValue\": {\n",
      "                \"functionName\": \"Image.geometry\",\n",
      "                \"arguments\": {\n",
      "                  \"feature\": {\n",
      "                    \"functionInvocationValue\": {\n",
      "                      \"functionName\": \"Collection.first\",\n",
      "                      \"arguments\": {\n",
      "                        \"collection\": {\n",
      "                          \"functionInvocationValue\": {\n",
      "                            \"functionName\": \"Collection.map\",\n",
      "                            \"arguments\": {\n",
      "                              \"baseAlgorithm\": {\n",
      "                                \"functionDefinitionValue\": {\n",
      "                                  \"argumentNames\": [\n",
      "                                    \"_MAPPING_VAR_0_0\"\n",
      "                                  ],\n",
      "                                  \"body\": {\n",
      "                                    \"functionInvocationValue\": {\n",
      "                                      \"functionName\": \"Image.select\",\n",
      "                                      \"arguments\": {\n",
      "                                        \"bandSelectors\": {\n",
      "                                          \"constantValue\": [\n",
      "                                            \"B.*\"\n",
      "                                          ]\n",
      "                                        },\n",
      "                                        \"input\": {\n",
      "                                          \"argumentReference\": \"_MAPPING_VAR_0_0\"\n",
      "                                        }\n",
      "                                      }\n",
      "                                    }\n",
      "                                  }\n",
      "                                }\n",
      "                              },\n",
      "                              \"collection\": {\n",
      "                                \"functionInvocationValue\": {\n",
      "                                  \"functionName\": \"Collection.filter\",\n",
      "                                  \"arguments\": {\n",
      "                                    \"collection\": {\n",
      "                                      \"functionInvocationValue\": {\n",
      "                                        \"functionName\": \"Collection.filter\",\n",
      "                                        \"arguments\": {\n",
      "                                          \"collection\": {\n",
      "                                            \"functionInvocationValue\": {\n",
      "                                              \"functionName\": \"Collection.filter\",\n",
      "                                              \"arguments\": {\n",
      "                                                \"collection\": {\n",
      "                                                  \"functionInvocationValue\": {\n",
      "                                                    \"functionName\": \"ImageCollection.load\",\n",
      "                                                    \"arguments\": {\n",
      "                                                      \"id\": {\n",
      "                                                        \"constantValue\": \"COPERNICUS/S2\"\n",
      "                                                      }\n",
      "                                                    }\n",
      "                                                  }\n",
      "                                                },\n",
      "                                                \"filter\": {\n",
      "                                                  \"functionInvocationValue\": {\n",
      "                                                    \"functionName\": \"Filter.lessThan\",\n",
      "                                                    \"arguments\": {\n",
      "                                                      \"leftField\": {\n",
      "                                                        \"constantValue\": \"CLOUDY_PIXEL_PERCENTAGE\"\n",
      "                                                      },\n",
      "                                                      \"rightValue\": {\n",
      "                                                        \"constantValue\": 30\n",
      "                                                      }\n",
      "                                                    }\n",
      "                                                  }\n",
      "                                                }\n",
      "                                              }\n",
      "                                            }\n",
      "                                          },\n",
      "                                          \"filter\": {\n",
      "                                            \"functionInvocationValue\": {\n",
      "                                              \"functionName\": \"Filter.dateRangeContains\",\n",
      "                                              \"arguments\": {\n",
      "                                                \"leftValue\": {\n",
      "                                                  \"functionInvocationValue\": {\n",
      "                                                    \"functionName\": \"DateRange\",\n",
      "                                                    \"arguments\": {\n",
      "                                                      \"end\": {\n",
      "                                                        \"constantValue\": \"2019-12-31\"\n",
      "                                                      },\n",
      "                                                      \"start\": {\n",
      "                                                        \"constantValue\": \"2019-01-01\"\n",
      "                                                      }\n",
      "                                                    }\n",
      "                                                  }\n",
      "                                                },\n",
      "                                                \"rightField\": {\n",
      "                                                  \"constantValue\": \"system:time_start\"\n",
      "                                                }\n",
      "                                              }\n",
      "                                            }\n",
      "                                          }\n",
      "                                        }\n",
      "                                      }\n",
      "                                    },\n",
      "                                    \"filter\": {\n",
      "                                      \"functionInvocationValue\": {\n",
      "                                        \"functionName\": \"Filter.intersects\",\n",
      "                                        \"arguments\": {\n",
      "                                          \"leftField\": {\n",
      "                                            \"constantValue\": \".all\"\n",
      "                                          },\n",
      "                                          \"rightValue\": {\n",
      "                                            \"functionInvocationValue\": {\n",
      "                                              \"functionName\": \"Feature\",\n",
      "                                              \"arguments\": {\n",
      "                                                \"geometry\": {\n",
      "                                                  \"functionInvocationValue\": {\n",
      "                                                    \"functionName\": \"GeometryConstructors.Point\",\n",
      "                                                    \"arguments\": {\n",
      "                                                      \"coordinates\": {\n",
      "                                                        \"constantValue\": [\n",
      "                                                          77.60412933051538,\n",
      "                                                          12.952912912328241\n",
      "                                                        ]\n",
      "                                                      }\n",
      "                                                    }\n",
      "                                                  }\n",
      "                                                }\n",
      "                                              }\n",
      "                                            }\n",
      "                                          }\n",
      "                                        }\n",
      "                                      }\n",
      "                                    }\n",
      "                                  }\n",
      "                                }\n",
      "                              }\n",
      "                            }\n",
      "                          }\n",
      "                        }\n",
      "                      }\n",
      "                    }\n",
      "                  }\n",
      "                }\n",
      "              }\n",
      "            },\n",
      "            \"image\": {\n",
      "              \"functionInvocationValue\": {\n",
      "                \"functionName\": \"Collection.first\",\n",
      "                \"arguments\": {\n",
      "                  \"collection\": {\n",
      "                    \"functionInvocationValue\": {\n",
      "                      \"functionName\": \"Collection.map\",\n",
      "                      \"arguments\": {\n",
      "                        \"baseAlgorithm\": {\n",
      "                          \"functionDefinitionValue\": {\n",
      "                            \"argumentNames\": [\n",
      "                              \"_MAPPING_VAR_0_0\"\n",
      "                            ],\n",
      "                            \"body\": {\n",
      "                              \"functionInvocationValue\": {\n",
      "                                \"functionName\": \"Image.select\",\n",
      "                                \"arguments\": {\n",
      "                                  \"bandSelectors\": {\n",
      "                                    \"constantValue\": [\n",
      "                                      \"B.*\"\n",
      "                                    ]\n",
      "                                  },\n",
      "                                  \"input\": {\n",
      "                                    \"argumentReference\": \"_MAPPING_VAR_0_0\"\n",
      "                                  }\n",
      "                                }\n",
      "                              }\n",
      "                            }\n",
      "                          }\n",
      "                        },\n",
      "                        \"collection\": {\n",
      "                          \"functionInvocationValue\": {\n",
      "                            \"functionName\": \"Collection.filter\",\n",
      "                            \"arguments\": {\n",
      "                              \"collection\": {\n",
      "                                \"functionInvocationValue\": {\n",
      "                                  \"functionName\": \"Collection.filter\",\n",
      "                                  \"arguments\": {\n",
      "                                    \"collection\": {\n",
      "                                      \"functionInvocationValue\": {\n",
      "                                        \"functionName\": \"Collection.filter\",\n",
      "                                        \"arguments\": {\n",
      "                                          \"collection\": {\n",
      "                                            \"functionInvocationValue\": {\n",
      "                                              \"functionName\": \"ImageCollection.load\",\n",
      "                                              \"arguments\": {\n",
      "                                                \"id\": {\n",
      "                                                  \"constantValue\": \"COPERNICUS/S2\"\n",
      "                                                }\n",
      "                                              }\n",
      "                                            }\n",
      "                                          },\n",
      "                                          \"filter\": {\n",
      "                                            \"functionInvocationValue\": {\n",
      "                                              \"functionName\": \"Filter.lessThan\",\n",
      "                                              \"arguments\": {\n",
      "                                                \"leftField\": {\n",
      "                                                  \"constantValue\": \"CLOUDY_PIXEL_PERCENTAGE\"\n",
      "                                                },\n",
      "                                                \"rightValue\": {\n",
      "                                                  \"constantValue\": 30\n",
      "                                                }\n",
      "                                              }\n",
      "                                            }\n",
      "                                          }\n",
      "                                        }\n",
      "                                      }\n",
      "                                    },\n",
      "                                    \"filter\": {\n",
      "                                      \"functionInvocationValue\": {\n",
      "                                        \"functionName\": \"Filter.dateRangeContains\",\n",
      "                                        \"arguments\": {\n",
      "                                          \"leftValue\": {\n",
      "                                            \"functionInvocationValue\": {\n",
      "                                              \"functionName\": \"DateRange\",\n",
      "                                              \"arguments\": {\n",
      "                                                \"end\": {\n",
      "                                                  \"constantValue\": \"2019-12-31\"\n",
      "                                                },\n",
      "                                                \"start\": {\n",
      "                                                  \"constantValue\": \"2019-01-01\"\n",
      "                                                }\n",
      "                                              }\n",
      "                                            }\n",
      "                                          },\n",
      "                                          \"rightField\": {\n",
      "                                            \"constantValue\": \"system:time_start\"\n",
      "                                          }\n",
      "                                        }\n",
      "                                      }\n",
      "                                    }\n",
      "                                  }\n",
      "                                }\n",
      "                              },\n",
      "                              \"filter\": {\n",
      "                                \"functionInvocationValue\": {\n",
      "                                  \"functionName\": \"Filter.intersects\",\n",
      "                                  \"arguments\": {\n",
      "                                    \"leftField\": {\n",
      "                                      \"constantValue\": \".all\"\n",
      "                                    },\n",
      "                                    \"rightValue\": {\n",
      "                                      \"functionInvocationValue\": {\n",
      "                                        \"functionName\": \"Feature\",\n",
      "                                        \"arguments\": {\n",
      "                                          \"geometry\": {\n",
      "                                            \"functionInvocationValue\": {\n",
      "                                              \"functionName\": \"GeometryConstructors.Point\",\n",
      "                                              \"arguments\": {\n",
      "                                                \"coordinates\": {\n",
      "                                                  \"constantValue\": [\n",
      "                                                    77.60412933051538,\n",
      "                                                    12.952912912328241\n",
      "                                                  ]\n",
      "                                                }\n",
      "                                              }\n",
      "                                            }\n",
      "                                          }\n",
      "                                        }\n",
      "                                      }\n",
      "                                    }\n",
      "                                  }\n",
      "                                }\n",
      "                              }\n",
      "                            }\n",
      "                          }\n",
      "                        }\n",
      "                      }\n",
      "                    }\n",
      "                  }\n",
      "                }\n",
      "              }\n",
      "            },\n",
      "            \"maxPixels\": {\n",
      "              \"constantValue\": 10000000000.0\n",
      "            },\n",
      "            \"reducer\": {\n",
      "              \"functionInvocationValue\": {\n",
      "                \"functionName\": \"Reducer.mean\",\n",
      "                \"arguments\": {}\n",
      "              }\n",
      "            },\n",
      "            \"scale\": {\n",
      "              \"constantValue\": 100\n",
      "            }\n",
      "          }\n",
      "        }\n",
      "      },\n",
      "      \"key\": {\n",
      "        \"constantValue\": \"B4\"\n",
      "      }\n",
      "    }\n",
      "  }\n",
      "})\n"
     ]
    }
   ],
   "source": [
    "geometry = ee.Geometry.Point([77.60412933051538, 12.952912912328241])\n",
    "s2 = ee.ImageCollection(\"COPERNICUS/S2\")\n",
    "    \n",
    "# Computing stats on a list\n",
    "myList = ee.List.sequence(1, 10)\n",
    "print(type(myList))\n",
    "\n",
    "# Use a reducer to compute min and max in the list\n",
    "mean = myList.reduce(ee.Reducer.mean())\n",
    "print(type(mean))\n",
    "\n",
    "# Apply a reducer on a image collection\n",
    "filtered = s2.filter(ee.Filter.lt('CLOUDY_PIXEL_PERCENTAGE', 30))\\\n",
    "    .filter(ee.Filter.date('2019-01-01', '2019-12-31'))\\\n",
    "    .filter(ee.Filter.geometry(geometry))\\\n",
    "    .select('B.*')\n",
    "\n",
    "print(type(filtered.size()))\n",
    "collMean = filtered.reduce(ee.Reducer.mean())\n",
    "print('Reducer on Collection', type(collMean.getInfo()))\n",
    "\n",
    "# Apply a reducer on an image\n",
    "image = ee.Image(filtered.first())\n",
    "print('Image', type(image))\n",
    "\n",
    "imageMean = image.reduce(ee.Reducer.mean())\n",
    "print('Reducer on Image', type(imageMean))\n",
    "\n",
    "# If we want to compute min and max for each band, use reduceRegion instead\n",
    "stats = image.reduceRegion(**{\n",
    "  \"reducer\": ee.Reducer.mean(),\n",
    "  \"geometry\": image.geometry(),\n",
    "  \"scale\": 100,\n",
    "  \"maxPixels\": 1e10\n",
    "})\n",
    "print(type(stats))\n",
    "\n",
    "# Result of reduceRegion is a dictionary. \n",
    "# We can extract the values using .get() function\n",
    "print('Average value in B4', stats.get('B4'))"
   ]
  },
  {
   "cell_type": "markdown",
   "id": "e5490217",
   "metadata": {},
   "source": [
    "### Exercise"
   ]
  },
  {
   "cell_type": "code",
   "execution_count": 43,
   "id": "f6cab7a9",
   "metadata": {},
   "outputs": [
    {
     "data": {
      "text/plain": [
       "{'B1': 1232.1078293483356,\n",
       " 'B10': 7.8499765588373185,\n",
       " 'B11': 1211.213314580403,\n",
       " 'B12': 560.4913267698079,\n",
       " 'B2': 959.2437880918895,\n",
       " 'B3': 856.0890764181906,\n",
       " 'B4': 527.2372245663386,\n",
       " 'B5': 845.3614627285515,\n",
       " 'B6': 2655.7172995780593,\n",
       " 'B7': 3523.71870604782,\n",
       " 'B8': 3409.1233005157055,\n",
       " 'B8A': 3722.547116736991,\n",
       " 'B9': 1118.8030942334742,\n",
       " 'QA10': 0,\n",
       " 'QA20': 0,\n",
       " 'QA60': 0}"
      ]
     },
     "execution_count": 43,
     "metadata": {},
     "output_type": "execute_result"
    }
   ],
   "source": [
    "geometry = ee.Geometry.Polygon([[\n",
    "  [82.60642647743225, 27.16350437805251],\n",
    "  [82.60984897613525, 27.1618529901377],\n",
    "  [82.61088967323303, 27.163695288375266],\n",
    "  [82.60757446289062, 27.16517483230927]\n",
    "]])\n",
    "          \n",
    "rgbVis = {\"min\": 0.0, \"max\": 3000, \"bands\": ['B4', 'B3', 'B2']}\n",
    "image = ee.Image('COPERNICUS/S2/20190223T050811_20190223T051829_T44RPR')\n",
    "\n",
    "m.addLayer(image, rgbVis, 'Image')\n",
    "m.addLayer(geometry, {\"color\": 'red'}, 'Farm')\n",
    "m.centerObject(geometry)\n",
    "\n",
    "ndvi = image.normalizedDifference(['B8', 'B4']).rename('ndvi')\n",
    "\n",
    "# Exercise\n",
    "# Compute the average NDVI for the farm from the given image\n",
    "# Hint: Use the reduceRegion() function\n",
    "stats = image.reduceRegion(**{\n",
    "    \"reducer\": ee.Reducer.mean(),\n",
    "    \"geometry\": geometry,\n",
    "    \"scale\": 100,\n",
    "    \"maxPixels\": 1e10\n",
    "})\n",
    "\n",
    "stats.getInfo()"
   ]
  },
  {
   "cell_type": "markdown",
   "id": "d38f334f",
   "metadata": {},
   "source": [
    "## 06. Time-Series Charts\n",
    "\n",
    "Now we can put together all the skills we have learnt so far: `filter`, `map`, `reduce`, and `cloud-masking` to create a chart of average NDVI values for a given farm over 1 year. "
   ]
  },
  {
   "cell_type": "code",
   "execution_count": 21,
   "id": "389ceaa7",
   "metadata": {},
   "outputs": [
    {
     "name": "stdout",
     "output_type": "stream",
     "text": [
      "Computing statistics ...\n",
      "Generating URL ...\n",
      "Downloading data from https://earthengine.googleapis.com/v1alpha/projects/earthengine-legacy/tables/f885ac3e805e74f340f5bd46aaab2875-8007d69394cb1f65aed90ad2f1431c60:getFeatures\n",
      "Please wait ...\n",
      "Data downloaded to /Users/akramzaytar/projects/Learn/GEE/ezmap/notebooks/timeseries.csv\n"
     ]
    }
   ],
   "source": [
    "s2 = ee.ImageCollection(\"COPERNICUS/S2\")\n",
    "geometry = ee.Geometry.Polygon([[\n",
    "  [82.60642647743225, 27.16350437805251],\n",
    "  [82.60984897613525, 27.1618529901377],\n",
    "  [82.61088967323303, 27.163695288375266],\n",
    "  [82.60757446289062, 27.16517483230927]\n",
    "]])\n",
    "\n",
    "m.addLayer(geometry, {\"color\": 'red'}, 'Farm')\n",
    "m.centerObject(geometry)\n",
    "\n",
    "rgbVis = {\"min\": 0.0, \"max\": 3000, \"bands\": ['B4', 'B3', 'B2']};\n",
    "\n",
    "filtered = s2\\\n",
    "    .filter(ee.Filter.date('2017-01-01', '2017-12-31'))\\\n",
    "    .filter(ee.Filter.lt('CLOUDY_PIXEL_PERCENTAGE', 30))\\\n",
    "    .filter(ee.Filter.geometry(geometry))\n",
    "\n",
    "# Write a function for Cloud masking\n",
    "def maskS2clouds(img):\n",
    "    qa = img.select('QA60')\n",
    "    cloudBitMask = 1 << 10\n",
    "    cirrusBitMask = 1 << 11\n",
    "    mask = qa.bitwiseAnd(cloudBitMask).eq(0).And(qa.bitwiseAnd(cirrusBitMask).eq(0))\n",
    "    return img.updateMask(mask).divide(10000).select(\"B.*\").copyProperties(img, [\"system:time_start\"])\n",
    "\n",
    "filtered = filtered.map(maskS2clouds)\n",
    "\n",
    "# Write a function that computes NDVI for an image and adds it as a band\n",
    "def addNDVI(img):\n",
    "    ndvi = img.normalizedDifference(['B8', 'B4']).rename('ndvi')\n",
    "    return img.addBands(ndvi)\n",
    "\n",
    "# Map the function over the collection\n",
    "withNdvi = filtered.map(addNDVI)\n",
    "\n",
    "image = withNdvi.select(\"ndvi\").toBands()\n",
    "\n",
    "geemap.zonal_statistics(image, ee.FeatureCollection(geometry), \n",
    "                        \"data/timeseries.csv\", statistics_type='MEAN', scale=20)"
   ]
  },
  {
   "cell_type": "code",
   "execution_count": 22,
   "id": "eefe851e",
   "metadata": {},
   "outputs": [],
   "source": [
    "df = pd.read_csv(\"data/timeseries.csv\")"
   ]
  },
  {
   "cell_type": "code",
   "execution_count": 23,
   "id": "8dbd1b14",
   "metadata": {},
   "outputs": [
    {
     "data": {
      "text/plain": [
       "[<matplotlib.lines.Line2D at 0x7fe890c97e20>]"
      ]
     },
     "execution_count": 23,
     "metadata": {},
     "output_type": "execute_result"
    },
    {
     "data": {
      "image/png": "[encoded data removed]",
      "text/plain": [
       "<Figure size 432x288 with 1 Axes>"
      ]
     },
     "metadata": {
      "needs_background": "light"
     },
     "output_type": "display_data"
    }
   ],
   "source": [
    "_, ax = plt.subplots()\n",
    "ax.plot([val for val in df.values.tolist()[0] if not pd.isna(val)])"
   ]
  },
  {
   "cell_type": "markdown",
   "id": "aa8595ba",
   "metadata": {},
   "source": [
    "### Exercise\n",
    "\n",
    "Delete the farm boundary from the previous script and add another farm at a location of your choice\n",
    "\n",
    "Print the chart."
   ]
  },
  {
   "cell_type": "code",
   "execution_count": 25,
   "id": "ebc6e8c6",
   "metadata": {},
   "outputs": [
    {
     "name": "stdout",
     "output_type": "stream",
     "text": [
      "Computing statistics ...\n",
      "Generating URL ...\n",
      "Downloading data from https://earthengine.googleapis.com/v1alpha/projects/earthengine-legacy/tables/4746cc160a30967d0c18c82667a97965-fd0f7a361f85f7044bfc3f96ea14d7b6:getFeatures\n",
      "Please wait ...\n",
      "Data downloaded to /Users/akramzaytar/projects/Learn/GEE/ezmap/notebooks/timeseries.csv\n"
     ]
    }
   ],
   "source": [
    "aoi = ee.FeatureCollection(m.draw_features[0])\n",
    "s2 = ee.ImageCollection(\"COPERNICUS/S2\")\n",
    "\n",
    "m.addLayer(aoi, {\"color\": 'red'}, 'Farm')\n",
    "m.centerObject(aoi)\n",
    "\n",
    "rgbVis = {\"min\": 0.0, \"max\": 3000, \"bands\": ['B4', 'B3', 'B2']};\n",
    "\n",
    "filtered = s2\\\n",
    "    .filter(ee.Filter.date('2017-01-01', '2017-12-31'))\\\n",
    "    .filter(ee.Filter.lt('CLOUDY_PIXEL_PERCENTAGE', 30))\\\n",
    "    .filter(ee.Filter.geometry(aoi))\n",
    "\n",
    "# Write a function for Cloud masking\n",
    "def maskS2clouds(img):\n",
    "    qa = img.select('QA60')\n",
    "    cloudBitMask = 1 << 10\n",
    "    cirrusBitMask = 1 << 11\n",
    "    mask = qa.bitwiseAnd(cloudBitMask).eq(0).And(qa.bitwiseAnd(cirrusBitMask).eq(0))\n",
    "    return img.updateMask(mask).divide(10000).select(\"B.*\").copyProperties(img, [\"system:time_start\"])\n",
    "\n",
    "filtered = filtered.map(maskS2clouds)\n",
    "\n",
    "# Write a function that computes NDVI for an image and adds it as a band\n",
    "def addNDVI(img):\n",
    "    ndvi = img.normalizedDifference(['B8', 'B4']).rename('ndvi')\n",
    "    return img.addBands(ndvi)\n",
    "\n",
    "# Map the function over the collection\n",
    "withNdvi = filtered.map(addNDVI)\n",
    "\n",
    "image = withNdvi.select(\"ndvi\").toBands()\n",
    "\n",
    "geemap.zonal_statistics(image, aoi, \"data/timeseries.csv\", statistics_type='MEAN', scale=20)"
   ]
  },
  {
   "cell_type": "code",
   "execution_count": 26,
   "id": "25235e0e",
   "metadata": {},
   "outputs": [
    {
     "data": {
      "text/plain": [
       "[<matplotlib.lines.Line2D at 0x7fe8805dd6a0>]"
      ]
     },
     "execution_count": 26,
     "metadata": {},
     "output_type": "execute_result"
    },
    {
     "data": {
      "image/png": "[encoded data removed]",
      "text/plain": [
       "<Figure size 432x288 with 1 Axes>"
      ]
     },
     "metadata": {
      "needs_background": "light"
     },
     "output_type": "display_data"
    }
   ],
   "source": [
    "df = pd.read_csv(\"data/timeseries.csv\")\n",
    "_, ax = plt.subplots()\n",
    "ax.plot([val for val in df.values.tolist()[0] if not pd.isna(val)])"
   ]
  },
  {
   "cell_type": "markdown",
   "id": "06700843",
   "metadata": {},
   "source": [
    "## Assignment 2"
   ]
  },
  {
   "cell_type": "code",
   "execution_count": 28,
   "id": "b66c8725",
   "metadata": {},
   "outputs": [
    {
     "name": "stdout",
     "output_type": "stream",
     "text": [
      "Computing statistics ...\n",
      "Generating URL ...\n",
      "Downloading data from https://earthengine.googleapis.com/v1alpha/projects/earthengine-legacy/tables/28b8a5cb6ab003ec06b56209ec97e6cc-0c04ffaefb23434c5f9c1b05ec7da7e5:getFeatures\n",
      "Please wait ...\n",
      "Data downloaded to /Users/akramzaytar/projects/Learn/GEE/ezmap/notebooks/timeseries.csv\n"
     ]
    }
   ],
   "source": [
    "geometry = ee.Geometry.Point([77.54849920033682, 12.91215102400037])\n",
    "    \n",
    "# Assignment\n",
    "# Use Gridded Climate dataset to chart a 40+ year time series\n",
    "# of temparature at any location\n",
    "\n",
    "\n",
    "# Workflow\n",
    "# [x] Load the TerraClimate collection\n",
    "imgs = ee.ImageCollection(\"IDAHO_EPSCOR/TERRACLIMATE\")\n",
    "\n",
    "# [x] Select the 'tmmx' band\n",
    "imgs = imgs.select([\"tmmx\"])\n",
    "\n",
    "# [x] Scale the band values\n",
    "imgs = imgs.map(lambda img: img.multiply(0.1).copyProperties(img, [\"system:time_start\"]))\n",
    "\n",
    "# [x] Filter the scaled collection\n",
    "imgs = imgs.filter(ee.Filter.geometry(geometry))\n",
    "img = imgs.toBands() \n",
    "\n",
    "# Export statistics\n",
    "geemap.zonal_statistics(img, ee.FeatureCollection(geometry), \n",
    "                        \"timeseries.csv\", statistics_type='MEAN', \n",
    "                        scale=img.projection().nominalScale())\n",
    "\n",
    "# # Hint1\n",
    "# # Data needed to be scaled by 0.1\n",
    "# # map() a function and multiply each image\n",
    "# # Multiplying creates a new image that doesn't have the same properties\n",
    "# # Use copyProperties() function to copy timestamp to new image\n",
    "# var tmax = terraclimate.select('tmmx')\n",
    "# var tmaxScaled = tmax.map(function(image) {\n",
    "#   return image.multiply(0.1)\n",
    "#     .copyProperties(image,['system:time_start']);\n",
    "# })\n",
    "\n",
    "# # Hint2\n",
    "# # You will need to specify a scale in meters for charting\n",
    "# # Use projection().nominalScale() to find the \n",
    "# # image resolution in meters\n",
    "# var image = ee.Image(terraclimate.first())\n",
    "# print(image.projection().nominalScale())"
   ]
  },
  {
   "cell_type": "code",
   "execution_count": 29,
   "id": "bff022b1",
   "metadata": {},
   "outputs": [
    {
     "data": {
      "text/plain": [
       "[<matplotlib.lines.Line2D at 0x7fe8726edca0>]"
      ]
     },
     "execution_count": 29,
     "metadata": {},
     "output_type": "execute_result"
    },
    {
     "data": {
      "image/png": "[encoded data removed]",
      "text/plain": [
       "<Figure size 432x288 with 1 Axes>"
      ]
     },
     "metadata": {
      "needs_background": "light"
     },
     "output_type": "display_data"
    }
   ],
   "source": [
    "df = pd.read_csv(\"timeseries.csv\")\n",
    "_, ax = plt.subplots()\n",
    "ax.plot([val for val in df.values.tolist()[0] if not pd.isna(val)])"
   ]
  },
  {
   "cell_type": "markdown",
   "id": "189c5832",
   "metadata": {},
   "source": [
    "We will probably use docs: "
   ]
  },
  {
   "cell_type": "code",
   "execution_count": null,
   "id": "411eb35b",
   "metadata": {},
   "outputs": [],
   "source": [
    "geemap.ee_search()"
   ]
  },
  {
   "cell_type": "markdown",
   "id": "ef88d391",
   "metadata": {},
   "source": [
    "---"
   ]
  }
 ],
 "metadata": {
  "kernelspec": {
   "display_name": "Python 3",
   "language": "python",
   "name": "python3"
  },
  "language_info": {
   "codemirror_mode": {
    "name": "ipython",
    "version": 3
   },
   "file_extension": ".py",
   "mimetype": "text/x-python",
   "name": "python",
   "nbconvert_exporter": "python",
   "pygments_lexer": "ipython3",
   "version": "3.8.8"
  }
 },
 "nbformat": 4,
 "nbformat_minor": 5
}
